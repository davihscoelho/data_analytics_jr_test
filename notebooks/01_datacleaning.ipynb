{
 "cells": [
  {
   "cell_type": "code",
   "execution_count": 113,
   "metadata": {},
   "outputs": [],
   "source": []
  },
  {
   "cell_type": "markdown",
   "metadata": {},
   "source": [
    "# Importacoes"
   ]
  },
  {
   "cell_type": "code",
   "execution_count": 319,
   "metadata": {},
   "outputs": [],
   "source": [
    "import pandas as pd\n",
    "import duckdb \n",
    "import sqlite3\n",
    "from datetime import datetime\n",
    "import numpy as np\n",
    "import regex as re"
   ]
  },
  {
   "cell_type": "markdown",
   "metadata": {},
   "source": [
    "# Inicio"
   ]
  },
  {
   "cell_type": "code",
   "execution_count": 320,
   "metadata": {},
   "outputs": [],
   "source": [
    "database_name =\"../test_analytics.db\"\n"
   ]
  },
  {
   "cell_type": "code",
   "execution_count": 115,
   "metadata": {},
   "outputs": [],
   "source": [
    "# def returning_df_from_all_tables(query):\n",
    "# \ttry:\n",
    "\n",
    "# \t\tconn = sqlite3.connect(database_name)\n",
    "# \t\tcursor = conn.cursor()\n",
    "\n",
    "# \t\tcursor.execute (query)\n",
    "# \t\ttables = [table[0] for table in cursor.fetchall()]\n",
    "\n",
    "# \t\tif not tables:\n",
    "# \t\t\tprint (\"Not is possible\")\n",
    "\n",
    "# \t\tunion_all_query = \" UNION ALL \".join(f\"SELECT * FROM \\\"{table}\\\"\" for table in tables)\n",
    "# \t\t#cursor.execute(union_all_query)\n",
    "\n",
    "# \t\t# rows = cursor.fetchall()\n",
    "# \t\tdf = pd.read_sql_query(union_all_query, conn)\n",
    "\n",
    "# \t\treturn df\n",
    "\n",
    "# \texcept sqlite3.Error as e:\n",
    "# \t\tprint(f\"SQLITE error: {e}\")\n",
    "\n",
    "# \tfinally:\n",
    "# \t\tif conn:\n",
    "# \t\t\tconn.close()\n",
    "\n",
    "\n",
    "# query =   \"\"\"\n",
    "#   SELECT name FROM sqlite_master\n",
    "#   WHERE type = 'table' AND  (name LIKE 'escolas%' OR name LIKE '%escolas%');\n",
    "#   \"\"\"\n",
    "\n",
    "# query2 = \"\"\"\n",
    "#   SELECT name FROM sqlite_master\n",
    "#   WHERE type = 'table' AND  (name LIKE 'idadeserie%' OR name LIKE '%idadeserie%');\n",
    "#   \"\"\"\n",
    "\n",
    "# df_escolas = returning_df_from_all_tables(query)\n",
    "\n",
    "# df_estudantes = returning_df_from_all_tables(query2)"
   ]
  },
  {
   "cell_type": "code",
   "execution_count": 116,
   "metadata": {},
   "outputs": [],
   "source": [
    "duckdb_database = \"../my_database.duckdb\""
   ]
  },
  {
   "cell_type": "code",
   "execution_count": 117,
   "metadata": {},
   "outputs": [],
   "source": [
    "conn = duckdb.connect(duckdb_database)"
   ]
  },
  {
   "cell_type": "code",
   "execution_count": 118,
   "metadata": {},
   "outputs": [],
   "source": [
    "# conn.execute(\"CREATE TABLE IF NOT EXISTS raw_escolas AS SELECT * FROM  df_escolas\")"
   ]
  },
  {
   "cell_type": "code",
   "execution_count": 119,
   "metadata": {},
   "outputs": [],
   "source": [
    "# conn.execute(\"CREATE TABLE IF NOT EXISTS raw_estudantes AS SELECT * FROM df_estudantes\")"
   ]
  },
  {
   "cell_type": "code",
   "execution_count": 120,
   "metadata": {},
   "outputs": [],
   "source": [
    "escola = conn.sql(\n",
    "  \"\"\"\n",
    "    SELECT *  \n",
    "    FROM main.raw_escolas re\n",
    "    WHERE re.fx_etaria IS NOT NULL\n",
    "    ORDER BY re.codesc;\n",
    "  \"\"\"\n",
    "  )"
   ]
  },
  {
   "cell_type": "code",
   "execution_count": 121,
   "metadata": {},
   "outputs": [],
   "source": [
    "# endereco = conn.sql(\n",
    "#   \"\"\"\n",
    "#     SELECT DISTINCT\n",
    "#       re.endereco ,\n",
    "#       re.bairro ,\n",
    "#       re.distrito,\n",
    "#       re.coddist,\n",
    "#       re.cep,\n",
    "#       re.latitude ,\n",
    "#       re.longitude ,\n",
    "      \n",
    "#     FROM main.raw_escolas re\n",
    "#     WHERE re.fx_etaria IS NOT NULL\n",
    "#     ORDER BY re.codesc;\n",
    "#   \"\"\"\n",
    "#   )"
   ]
  },
  {
   "cell_type": "code",
   "execution_count": 122,
   "metadata": {},
   "outputs": [],
   "source": [
    "estudantes = conn.sql(\n",
    "\n",
    "  \"\"\"\n",
    "    SELECT * FROM main.raw_estudantes\n",
    "  \n",
    "  \"\"\"\n",
    "\n",
    ")"
   ]
  },
  {
   "cell_type": "code",
   "execution_count": 123,
   "metadata": {},
   "outputs": [],
   "source": [
    "df = escola.to_df()"
   ]
  },
  {
   "cell_type": "code",
   "execution_count": 124,
   "metadata": {},
   "outputs": [],
   "source": [
    "df_estudantes = estudantes.to_df()"
   ]
  },
  {
   "cell_type": "markdown",
   "metadata": {},
   "source": [
    "# Processing and EDA df escolas"
   ]
  },
  {
   "cell_type": "code",
   "execution_count": 125,
   "metadata": {},
   "outputs": [],
   "source": [
    "conn.close()"
   ]
  },
  {
   "cell_type": "code",
   "execution_count": 321,
   "metadata": {},
   "outputs": [],
   "source": [
    "  # # CHECKLIST\n",
    "  # \"\"\"\n",
    "  #   Deleting redundant columns\n",
    "  #   Renaming the columns\n",
    "  #   Dropping duplicates\n",
    "  #   Remove the NaN values from the dataset\n",
    "  #   Check for some more Transformation\n",
    "\n",
    "  # \"\"\""
   ]
  },
  {
   "cell_type": "code",
   "execution_count": 126,
   "metadata": {},
   "outputs": [],
   "source": [
    "df_cleaned = df.copy()"
   ]
  },
  {
   "cell_type": "code",
   "execution_count": 127,
   "metadata": {},
   "outputs": [
    {
     "name": "stdout",
     "output_type": "stream",
     "text": [
      "<class 'pandas.core.frame.DataFrame'>\n",
      "RangeIndex: 22894 entries, 0 to 22893\n",
      "Data columns (total 35 columns):\n",
      " #   Column       Non-Null Count  Dtype  \n",
      "---  ------       --------------  -----  \n",
      " 0   dre          22894 non-null  object \n",
      " 1   codesc       22894 non-null  int64  \n",
      " 2   tipoesc      22894 non-null  object \n",
      " 3   nomesc       22894 non-null  object \n",
      " 4   nomescof     18366 non-null  object \n",
      " 5   ceu          269 non-null    object \n",
      " 6   diretoria    22894 non-null  object \n",
      " 7   subpref      22892 non-null  object \n",
      " 8   endereco     22894 non-null  object \n",
      " 9   numero       22894 non-null  object \n",
      " 10  bairro       22894 non-null  object \n",
      " 11  cep          22894 non-null  int64  \n",
      " 12  tel1         18297 non-null  object \n",
      " 13  tel2         2770 non-null   object \n",
      " 14  fax          2404 non-null   object \n",
      " 15  situacao     22894 non-null  object \n",
      " 16  coddist      22734 non-null  float64\n",
      " 17  distrito     22892 non-null  object \n",
      " 18  setor        22684 non-null  float64\n",
      " 19  codinep      22802 non-null  float64\n",
      " 20  codcie       22088 non-null  float64\n",
      " 21  eh           4111 non-null   object \n",
      " 22  fx_etaria    22894 non-null  object \n",
      " 23  dt_criacao   16392 non-null  object \n",
      " 24  ato_criacao  16388 non-null  object \n",
      " 25  dom_criacao  16391 non-null  object \n",
      " 26  dt_ini_func  1823 non-null   object \n",
      " 27  dt_ini_conv  11904 non-null  object \n",
      " 28  dt_autoriza  16753 non-null  object \n",
      " 29  dt_extincao  46 non-null     object \n",
      " 30  nome_ant     8081 non-null   object \n",
      " 31  rede         19276 non-null  object \n",
      " 32  latitude     22751 non-null  object \n",
      " 33  longitude    22751 non-null  object \n",
      " 34  database     22892 non-null  object \n",
      "dtypes: float64(4), int64(2), object(29)\n",
      "memory usage: 6.1+ MB\n"
     ]
    }
   ],
   "source": [
    "df_cleaned.info()"
   ]
  },
  {
   "cell_type": "code",
   "execution_count": 128,
   "metadata": {},
   "outputs": [],
   "source": [
    "columns_to_drop = [\"ceu\", \"tel1\", \"tel2\", \"fax\", \"eh\", \"ato_criacao\", \"dom_criacao\", \"dt_ini_func\",\"dt_extincao\",\"dt_autoriza\",\"nome_ant\"]"
   ]
  },
  {
   "cell_type": "code",
   "execution_count": 129,
   "metadata": {},
   "outputs": [],
   "source": [
    "df_cleaned = df_cleaned.drop(columns=columns_to_drop)"
   ]
  },
  {
   "cell_type": "code",
   "execution_count": 130,
   "metadata": {},
   "outputs": [],
   "source": [
    "columns = df_cleaned.columns\n",
    "\n",
    "for col in columns:\n",
    "    if df_cleaned[col].dtype == 'object' or pd.api.types.is_string_dtype(df_cleaned[col]):\n",
    "        df_cleaned[col] = df_cleaned[col].str.lower().str.strip()"
   ]
  },
  {
   "cell_type": "code",
   "execution_count": 131,
   "metadata": {},
   "outputs": [],
   "source": [
    "df_cleaned = df_cleaned.drop_duplicates()\n",
    "df_cleaned = df_cleaned.drop_duplicates(subset='codesc')"
   ]
  },
  {
   "cell_type": "code",
   "execution_count": 132,
   "metadata": {},
   "outputs": [
    {
     "name": "stdout",
     "output_type": "stream",
     "text": [
      "<class 'pandas.core.frame.DataFrame'>\n",
      "Index: 3531 entries, 0 to 22892\n",
      "Data columns (total 24 columns):\n",
      " #   Column       Non-Null Count  Dtype  \n",
      "---  ------       --------------  -----  \n",
      " 0   dre          3531 non-null   object \n",
      " 1   codesc       3531 non-null   int64  \n",
      " 2   tipoesc      3531 non-null   object \n",
      " 3   nomesc       3531 non-null   object \n",
      " 4   nomescof     3263 non-null   object \n",
      " 5   diretoria    3531 non-null   object \n",
      " 6   subpref      3531 non-null   object \n",
      " 7   endereco     3531 non-null   object \n",
      " 8   numero       3531 non-null   object \n",
      " 9   bairro       3531 non-null   object \n",
      " 10  cep          3531 non-null   int64  \n",
      " 11  situacao     3531 non-null   object \n",
      " 12  coddist      3523 non-null   float64\n",
      " 13  distrito     3531 non-null   object \n",
      " 14  setor        3486 non-null   float64\n",
      " 15  codinep      3446 non-null   float64\n",
      " 16  codcie       3412 non-null   float64\n",
      " 17  fx_etaria    3531 non-null   object \n",
      " 18  dt_criacao   2769 non-null   object \n",
      " 19  dt_ini_conv  1509 non-null   object \n",
      " 20  rede         3210 non-null   object \n",
      " 21  latitude     3525 non-null   object \n",
      " 22  longitude    3525 non-null   object \n",
      " 23  database     3531 non-null   object \n",
      "dtypes: float64(4), int64(2), object(18)\n",
      "memory usage: 689.6+ KB\n"
     ]
    }
   ],
   "source": [
    "df_cleaned.info()"
   ]
  },
  {
   "cell_type": "code",
   "execution_count": 133,
   "metadata": {},
   "outputs": [],
   "source": [
    "# Date Data Constraints Problems\n",
    "date_columns = [\"dt_criacao\", \"dt_ini_conv\",\"database\"]"
   ]
  },
  {
   "cell_type": "code",
   "execution_count": 134,
   "metadata": {},
   "outputs": [],
   "source": [
    "for col in date_columns:\n",
    "  df_cleaned[col] = (df_cleaned[col]\n",
    "                    .str.lower()\n",
    "                    .str.strip()\n",
    "                    )\n",
    "#aux = df_cleaned[date_columns].drop_duplicates().copy()\n",
    "#print(df_cleaned[date_columns].shape)\n",
    "#print(df_cleaned[date_columns].drop_duplicates().shape)"
   ]
  },
  {
   "cell_type": "code",
   "execution_count": 135,
   "metadata": {},
   "outputs": [],
   "source": [
    "date_abv = {\n",
    "    \"jan\": '01',\n",
    "    \"fev\": '02',\n",
    "    \"mar\": '03',\n",
    "    \"abr\": '04',\n",
    "    \"mai\": '05',\n",
    "    \"jun\": '06',\n",
    "    \"jul\": '07',\n",
    "    'ago': '08',\n",
    "    'set': '09',\n",
    "    'out': '10',\n",
    "    'nov': '11',\n",
    "    'dez': '12',\n",
    "    '00:00': ''\n",
    "      }"
   ]
  },
  {
   "cell_type": "code",
   "execution_count": 136,
   "metadata": {},
   "outputs": [],
   "source": [
    "for col in date_columns:\n",
    "  df_cleaned[col] = df_cleaned[col].replace(date_abv, regex=True)\n",
    "\n",
    "for col in date_columns:\n",
    "  df_cleaned[col] = (df_cleaned[col]\n",
    "                    .str.lower()\n",
    "                    .str.strip()\n",
    "                    )"
   ]
  },
  {
   "cell_type": "code",
   "execution_count": 137,
   "metadata": {},
   "outputs": [],
   "source": [
    "aux = df_cleaned[date_columns].fillna(np.nan).drop_duplicates().copy()"
   ]
  },
  {
   "cell_type": "code",
   "execution_count": 138,
   "metadata": {},
   "outputs": [],
   "source": [
    "# Define a function to handle mixed date formats\n",
    "def parse_dates(date):\n",
    "    try:\n",
    "        # Try parsing as DD/MM/YYYY\n",
    "        return pd.to_datetime(date, format='%d/%m/%Y', errors='raise')\n",
    "    except:\n",
    "        try:\n",
    "            # Try parsing as DD/MM/YY\n",
    "            return pd.to_datetime(date, format='%d/%m/%y', errors='raise')\n",
    "        except:\n",
    "            # Return NaT if parsing fails\n",
    "            return pd.NaT"
   ]
  },
  {
   "cell_type": "code",
   "execution_count": 139,
   "metadata": {},
   "outputs": [
    {
     "data": {
      "text/html": [
       "<div>\n",
       "<style scoped>\n",
       "    .dataframe tbody tr th:only-of-type {\n",
       "        vertical-align: middle;\n",
       "    }\n",
       "\n",
       "    .dataframe tbody tr th {\n",
       "        vertical-align: top;\n",
       "    }\n",
       "\n",
       "    .dataframe thead th {\n",
       "        text-align: right;\n",
       "    }\n",
       "</style>\n",
       "<table border=\"1\" class=\"dataframe\">\n",
       "  <thead>\n",
       "    <tr style=\"text-align: right;\">\n",
       "      <th></th>\n",
       "      <th>dt_criacao</th>\n",
       "      <th>dt_ini_conv</th>\n",
       "      <th>database</th>\n",
       "    </tr>\n",
       "  </thead>\n",
       "  <tbody>\n",
       "    <tr>\n",
       "      <th>22888</th>\n",
       "      <td>10/06/2020</td>\n",
       "      <td>NaN</td>\n",
       "      <td>31/12/2020</td>\n",
       "    </tr>\n",
       "    <tr>\n",
       "      <th>22889</th>\n",
       "      <td>20/08/20</td>\n",
       "      <td>NaN</td>\n",
       "      <td>31/12/21</td>\n",
       "    </tr>\n",
       "    <tr>\n",
       "      <th>22890</th>\n",
       "      <td>18/09/20</td>\n",
       "      <td>NaN</td>\n",
       "      <td>31/12/21</td>\n",
       "    </tr>\n",
       "    <tr>\n",
       "      <th>22891</th>\n",
       "      <td>02/10/20</td>\n",
       "      <td>NaN</td>\n",
       "      <td>31/12/21</td>\n",
       "    </tr>\n",
       "    <tr>\n",
       "      <th>22892</th>\n",
       "      <td>05/05/21</td>\n",
       "      <td>NaN</td>\n",
       "      <td>31/12/21</td>\n",
       "    </tr>\n",
       "  </tbody>\n",
       "</table>\n",
       "</div>"
      ],
      "text/plain": [
       "       dt_criacao dt_ini_conv    database\n",
       "22888  10/06/2020         NaN  31/12/2020\n",
       "22889    20/08/20         NaN    31/12/21\n",
       "22890    18/09/20         NaN    31/12/21\n",
       "22891    02/10/20         NaN    31/12/21\n",
       "22892    05/05/21         NaN    31/12/21"
      ]
     },
     "execution_count": 139,
     "metadata": {},
     "output_type": "execute_result"
    }
   ],
   "source": [
    "aux.tail()"
   ]
  },
  {
   "cell_type": "code",
   "execution_count": 140,
   "metadata": {},
   "outputs": [
    {
     "data": {
      "text/plain": [
       "22888   2020-06-10\n",
       "22889   2020-08-20\n",
       "22890   2020-09-18\n",
       "22891   2020-10-02\n",
       "22892   2021-05-05\n",
       "Name: dt_criacao, dtype: datetime64[ns]"
      ]
     },
     "execution_count": 140,
     "metadata": {},
     "output_type": "execute_result"
    }
   ],
   "source": [
    "aux[\"dt_criacao\"].apply(parse_dates).tail()"
   ]
  },
  {
   "cell_type": "code",
   "execution_count": 141,
   "metadata": {},
   "outputs": [],
   "source": [
    "for col in date_columns:\n",
    "  df_cleaned[col] = df_cleaned[col].apply(parse_dates)"
   ]
  },
  {
   "cell_type": "code",
   "execution_count": 142,
   "metadata": {},
   "outputs": [
    {
     "data": {
      "text/html": [
       "<div>\n",
       "<style scoped>\n",
       "    .dataframe tbody tr th:only-of-type {\n",
       "        vertical-align: middle;\n",
       "    }\n",
       "\n",
       "    .dataframe tbody tr th {\n",
       "        vertical-align: top;\n",
       "    }\n",
       "\n",
       "    .dataframe thead th {\n",
       "        text-align: right;\n",
       "    }\n",
       "</style>\n",
       "<table border=\"1\" class=\"dataframe\">\n",
       "  <thead>\n",
       "    <tr style=\"text-align: right;\">\n",
       "      <th></th>\n",
       "      <th>dre</th>\n",
       "      <th>codesc</th>\n",
       "      <th>tipoesc</th>\n",
       "      <th>nomesc</th>\n",
       "      <th>nomescof</th>\n",
       "      <th>diretoria</th>\n",
       "      <th>subpref</th>\n",
       "      <th>endereco</th>\n",
       "      <th>numero</th>\n",
       "      <th>bairro</th>\n",
       "      <th>...</th>\n",
       "      <th>setor</th>\n",
       "      <th>codinep</th>\n",
       "      <th>codcie</th>\n",
       "      <th>fx_etaria</th>\n",
       "      <th>dt_criacao</th>\n",
       "      <th>dt_ini_conv</th>\n",
       "      <th>rede</th>\n",
       "      <th>latitude</th>\n",
       "      <th>longitude</th>\n",
       "      <th>database</th>\n",
       "    </tr>\n",
       "  </thead>\n",
       "  <tbody>\n",
       "    <tr>\n",
       "      <th>0</th>\n",
       "      <td>pj</td>\n",
       "      <td>30993</td>\n",
       "      <td>cr.p.conv</td>\n",
       "      <td>vila sulina</td>\n",
       "      <td>vila sulina</td>\n",
       "      <td>pirituba</td>\n",
       "      <td>perus</td>\n",
       "      <td>rua luísa maria rosa</td>\n",
       "      <td>299</td>\n",
       "      <td>vila sulina</td>\n",
       "      <td>...</td>\n",
       "      <td>304.0</td>\n",
       "      <td>35007199.0</td>\n",
       "      <td>7199.0</td>\n",
       "      <td>00 a 03</td>\n",
       "      <td>2020-03-07</td>\n",
       "      <td>NaT</td>\n",
       "      <td>con</td>\n",
       "      <td>-23445107</td>\n",
       "      <td>-46785264</td>\n",
       "      <td>2020-12-31</td>\n",
       "    </tr>\n",
       "    <tr>\n",
       "      <th>1</th>\n",
       "      <td>pj</td>\n",
       "      <td>200204</td>\n",
       "      <td>ceci</td>\n",
       "      <td>jaragua</td>\n",
       "      <td>jaragua</td>\n",
       "      <td>pirituba</td>\n",
       "      <td>pirituba</td>\n",
       "      <td>avenida comendador  jose de matos</td>\n",
       "      <td>386</td>\n",
       "      <td>vila clarice</td>\n",
       "      <td>...</td>\n",
       "      <td>4202.0</td>\n",
       "      <td>35267181.0</td>\n",
       "      <td>267181.0</td>\n",
       "      <td>zero a 6a e 11m</td>\n",
       "      <td>2004-02-19</td>\n",
       "      <td>2004-12-23</td>\n",
       "      <td>dir</td>\n",
       "      <td>-23463830</td>\n",
       "      <td>-46752228</td>\n",
       "      <td>2010-12-31</td>\n",
       "    </tr>\n",
       "    <tr>\n",
       "      <th>10</th>\n",
       "      <td>cs</td>\n",
       "      <td>200205</td>\n",
       "      <td>ceci</td>\n",
       "      <td>krukutu</td>\n",
       "      <td>krukutu</td>\n",
       "      <td>capela do socorro</td>\n",
       "      <td>parelheiros</td>\n",
       "      <td>estrada  do curucutu</td>\n",
       "      <td>sn</td>\n",
       "      <td>parelheiros</td>\n",
       "      <td>...</td>\n",
       "      <td>5513.0</td>\n",
       "      <td>35267193.0</td>\n",
       "      <td>267193.0</td>\n",
       "      <td>zero a 6a e 11m</td>\n",
       "      <td>2004-02-19</td>\n",
       "      <td>2004-12-23</td>\n",
       "      <td>dir</td>\n",
       "      <td>-23879692</td>\n",
       "      <td>-46622206</td>\n",
       "      <td>2010-12-31</td>\n",
       "    </tr>\n",
       "    <tr>\n",
       "      <th>19</th>\n",
       "      <td>cs</td>\n",
       "      <td>200206</td>\n",
       "      <td>ceci</td>\n",
       "      <td>tenonde pora</td>\n",
       "      <td>tenonde pora</td>\n",
       "      <td>capela do socorro</td>\n",
       "      <td>parelheiros</td>\n",
       "      <td>engenheiro joão lang</td>\n",
       "      <td>153</td>\n",
       "      <td>jardim martini</td>\n",
       "      <td>...</td>\n",
       "      <td>5513.0</td>\n",
       "      <td>35267200.0</td>\n",
       "      <td>267200.0</td>\n",
       "      <td>zero a 6a e11m</td>\n",
       "      <td>2004-02-19</td>\n",
       "      <td>2004-12-23</td>\n",
       "      <td>dir</td>\n",
       "      <td>-23872420</td>\n",
       "      <td>-46650664</td>\n",
       "      <td>2010-12-31</td>\n",
       "    </tr>\n",
       "    <tr>\n",
       "      <th>28</th>\n",
       "      <td>sa</td>\n",
       "      <td>300080</td>\n",
       "      <td>esc.part.</td>\n",
       "      <td>jardim da infancia tia lolo</td>\n",
       "      <td>None</td>\n",
       "      <td>diretoria regional de educacao santo amaro</td>\n",
       "      <td>santo amaro</td>\n",
       "      <td>rua itagyba santiago</td>\n",
       "      <td>48</td>\n",
       "      <td>vila alexandria</td>\n",
       "      <td>...</td>\n",
       "      <td>1501.0</td>\n",
       "      <td>35105995.0</td>\n",
       "      <td>NaN</td>\n",
       "      <td>0 a 5 anos</td>\n",
       "      <td>NaT</td>\n",
       "      <td>NaT</td>\n",
       "      <td>None</td>\n",
       "      <td>-23.639.448</td>\n",
       "      <td>-46.669.338</td>\n",
       "      <td>2018-12-30</td>\n",
       "    </tr>\n",
       "  </tbody>\n",
       "</table>\n",
       "<p>5 rows × 24 columns</p>\n",
       "</div>"
      ],
      "text/plain": [
       "   dre  codesc    tipoesc                       nomesc      nomescof  \\\n",
       "0   pj   30993  cr.p.conv                  vila sulina   vila sulina   \n",
       "1   pj  200204       ceci                      jaragua       jaragua   \n",
       "10  cs  200205       ceci                      krukutu       krukutu   \n",
       "19  cs  200206       ceci                 tenonde pora  tenonde pora   \n",
       "28  sa  300080  esc.part.  jardim da infancia tia lolo          None   \n",
       "\n",
       "                                     diretoria      subpref  \\\n",
       "0                                     pirituba        perus   \n",
       "1                                     pirituba     pirituba   \n",
       "10                           capela do socorro  parelheiros   \n",
       "19                           capela do socorro  parelheiros   \n",
       "28  diretoria regional de educacao santo amaro  santo amaro   \n",
       "\n",
       "                             endereco numero           bairro  ...   setor  \\\n",
       "0                rua luísa maria rosa    299      vila sulina  ...   304.0   \n",
       "1   avenida comendador  jose de matos    386     vila clarice  ...  4202.0   \n",
       "10               estrada  do curucutu     sn      parelheiros  ...  5513.0   \n",
       "19               engenheiro joão lang    153   jardim martini  ...  5513.0   \n",
       "28               rua itagyba santiago     48  vila alexandria  ...  1501.0   \n",
       "\n",
       "       codinep    codcie        fx_etaria  dt_criacao  dt_ini_conv  rede  \\\n",
       "0   35007199.0    7199.0          00 a 03  2020-03-07          NaT   con   \n",
       "1   35267181.0  267181.0  zero a 6a e 11m  2004-02-19   2004-12-23   dir   \n",
       "10  35267193.0  267193.0  zero a 6a e 11m  2004-02-19   2004-12-23   dir   \n",
       "19  35267200.0  267200.0   zero a 6a e11m  2004-02-19   2004-12-23   dir   \n",
       "28  35105995.0       NaN       0 a 5 anos         NaT          NaT  None   \n",
       "\n",
       "       latitude    longitude   database  \n",
       "0     -23445107    -46785264 2020-12-31  \n",
       "1     -23463830    -46752228 2010-12-31  \n",
       "10    -23879692    -46622206 2010-12-31  \n",
       "19    -23872420    -46650664 2010-12-31  \n",
       "28  -23.639.448  -46.669.338 2018-12-30  \n",
       "\n",
       "[5 rows x 24 columns]"
      ]
     },
     "execution_count": 142,
     "metadata": {},
     "output_type": "execute_result"
    }
   ],
   "source": [
    "df_cleaned.head()"
   ]
  },
  {
   "cell_type": "code",
   "execution_count": 143,
   "metadata": {},
   "outputs": [],
   "source": [
    "# df_cleaned = df_cleaned.drop_duplicates()b\n",
    "# df_cleaned = df_cleaned.drop_duplicates(subset='codesc')"
   ]
  },
  {
   "cell_type": "markdown",
   "metadata": {},
   "source": [
    "## Cleaning Categorical and Text Columns"
   ]
  },
  {
   "cell_type": "code",
   "execution_count": 144,
   "metadata": {},
   "outputs": [
    {
     "name": "stdout",
     "output_type": "stream",
     "text": [
      "<class 'pandas.core.frame.DataFrame'>\n",
      "Index: 3531 entries, 0 to 22892\n",
      "Data columns (total 24 columns):\n",
      " #   Column       Non-Null Count  Dtype         \n",
      "---  ------       --------------  -----         \n",
      " 0   dre          3531 non-null   object        \n",
      " 1   codesc       3531 non-null   int64         \n",
      " 2   tipoesc      3531 non-null   object        \n",
      " 3   nomesc       3531 non-null   object        \n",
      " 4   nomescof     3263 non-null   object        \n",
      " 5   diretoria    3531 non-null   object        \n",
      " 6   subpref      3531 non-null   object        \n",
      " 7   endereco     3531 non-null   object        \n",
      " 8   numero       3531 non-null   object        \n",
      " 9   bairro       3531 non-null   object        \n",
      " 10  cep          3531 non-null   int64         \n",
      " 11  situacao     3531 non-null   object        \n",
      " 12  coddist      3523 non-null   float64       \n",
      " 13  distrito     3531 non-null   object        \n",
      " 14  setor        3486 non-null   float64       \n",
      " 15  codinep      3446 non-null   float64       \n",
      " 16  codcie       3412 non-null   float64       \n",
      " 17  fx_etaria    3531 non-null   object        \n",
      " 18  dt_criacao   2769 non-null   datetime64[ns]\n",
      " 19  dt_ini_conv  1509 non-null   datetime64[ns]\n",
      " 20  rede         3210 non-null   object        \n",
      " 21  latitude     3525 non-null   object        \n",
      " 22  longitude    3525 non-null   object        \n",
      " 23  database     3531 non-null   datetime64[ns]\n",
      "dtypes: datetime64[ns](3), float64(4), int64(2), object(15)\n",
      "memory usage: 689.6+ KB\n"
     ]
    }
   ],
   "source": [
    "df_cleaned.info()"
   ]
  },
  {
   "cell_type": "markdown",
   "metadata": {},
   "source": [
    "## Diretoria"
   ]
  },
  {
   "cell_type": "code",
   "execution_count": 145,
   "metadata": {},
   "outputs": [],
   "source": [
    "change_prefix_diretoria = {'diretoria regional de educacao': ''}"
   ]
  },
  {
   "cell_type": "code",
   "execution_count": 146,
   "metadata": {},
   "outputs": [],
   "source": [
    "aux = df_cleaned.copy()\n",
    "aux[\"diretoria\"] = aux[\"diretoria\"].replace(change_prefix_diretoria, regex=True)\n",
    "aux[\"diretoria\"] = aux[\"diretoria\"].str.lower().str.strip()"
   ]
  },
  {
   "cell_type": "code",
   "execution_count": 147,
   "metadata": {},
   "outputs": [],
   "source": [
    "df_cleaned[\"diretoria\"] = df_cleaned[\"diretoria\"].replace(change_prefix_diretoria, regex=True)\n",
    "df_cleaned[\"diretoria\"] = df_cleaned[\"diretoria\"].str.lower().str.strip()"
   ]
  },
  {
   "cell_type": "markdown",
   "metadata": {},
   "source": [
    "## Endereco"
   ]
  },
  {
   "cell_type": "code",
   "execution_count": 148,
   "metadata": {},
   "outputs": [],
   "source": [
    "def remove_special_characters(text):\n",
    "\n",
    "  if pd.isna(text):\n",
    "    return text\n",
    "  return re.sub(r'[^\\w\\s]', '', text)"
   ]
  },
  {
   "cell_type": "code",
   "execution_count": 149,
   "metadata": {},
   "outputs": [],
   "source": [
    "def remove_non_letters(text):\n",
    "    if pd.isna(text):\n",
    "        return text\n",
    "    return re.sub(r'[^a-zA-Z]\\s]', '', text)  # Keep only letters a-z or A-Z"
   ]
  },
  {
   "cell_type": "code",
   "execution_count": 150,
   "metadata": {},
   "outputs": [],
   "source": [
    "def fix_encoding(text):\n",
    "    try:\n",
    "        return text.encode('latin1').decode('utf-8')\n",
    "    except (AttributeError, UnicodeEncodeError, UnicodeDecodeError):\n",
    "        return text  # Return original if encoding fails"
   ]
  },
  {
   "cell_type": "code",
   "execution_count": 151,
   "metadata": {},
   "outputs": [],
   "source": [
    "def remove_acento_caracteres(text):\n",
    "    text = re.sub(r'[^\\w\\s]', '', text)  # Remove ~ e outros caracteres especiais\n",
    "    text = re.sub(r'ç', 'c', text)  # Substitui 'ç' por 'c'\n",
    "    text = re.sub(r'[áàâãä]', 'a', text)  # Remove acentos em 'a'\n",
    "    text = re.sub(r'[éèêë]', 'e', text)  # Remove acentos em 'e'\n",
    "    text = re.sub(r'[íìîï]', 'i', text)  # Remove acentos em 'i'\n",
    "    text = re.sub(r'[óòôõö]', 'o', text)  # Remove acentos em 'o'\n",
    "    text = re.sub(r'[úùûü]', 'u', text)  # Remove acentos em 'u'\n",
    "    return text"
   ]
  },
  {
   "cell_type": "code",
   "execution_count": 152,
   "metadata": {},
   "outputs": [],
   "source": [
    "replace_columns = {'  ': ''}"
   ]
  },
  {
   "cell_type": "code",
   "execution_count": 153,
   "metadata": {},
   "outputs": [],
   "source": [
    "df_cleaned[\"endereco\"] = df_cleaned[\"endereco\"].replace(replace_columns, regex=True)\n",
    "df_cleaned[\"endereco\"] = df_cleaned[\"endereco\"].apply(remove_special_characters)"
   ]
  },
  {
   "cell_type": "code",
   "execution_count": 154,
   "metadata": {},
   "outputs": [],
   "source": [
    "df_cleaned[\"bairro\"] = df_cleaned[\"bairro\"].apply(remove_special_characters)\n",
    "df_cleaned[\"bairro\"] = df_cleaned[\"bairro\"].apply(remove_non_letters)\n",
    "df_cleaned['bairro'] = df_cleaned['bairro'].apply(remove_acento_caracteres)"
   ]
  },
  {
   "cell_type": "code",
   "execution_count": 155,
   "metadata": {},
   "outputs": [],
   "source": [
    "replace_values = {\n",
    "  \"  \": \"\",\n",
    "  \n",
    "}"
   ]
  },
  {
   "cell_type": "code",
   "execution_count": 156,
   "metadata": {},
   "outputs": [
    {
     "data": {
      "text/plain": [
       "rede\n",
       "con    1990\n",
       "par     889\n",
       "dir     331\n",
       "Name: count, dtype: int64"
      ]
     },
     "execution_count": 156,
     "metadata": {},
     "output_type": "execute_result"
    }
   ],
   "source": [
    "df_cleaned[\"rede\"].value_counts()"
   ]
  },
  {
   "cell_type": "code",
   "execution_count": 157,
   "metadata": {},
   "outputs": [],
   "source": [
    "df_escolas_cleaned = df_cleaned.copy()"
   ]
  },
  {
   "cell_type": "markdown",
   "metadata": {},
   "source": [
    "# EDA df estudantes"
   ]
  },
  {
   "cell_type": "code",
   "execution_count": 158,
   "metadata": {},
   "outputs": [
    {
     "data": {
      "text/html": [
       "<div>\n",
       "<style scoped>\n",
       "    .dataframe tbody tr th:only-of-type {\n",
       "        vertical-align: middle;\n",
       "    }\n",
       "\n",
       "    .dataframe tbody tr th {\n",
       "        vertical-align: top;\n",
       "    }\n",
       "\n",
       "    .dataframe thead th {\n",
       "        text-align: right;\n",
       "    }\n",
       "</style>\n",
       "<table border=\"1\" class=\"dataframe\">\n",
       "  <thead>\n",
       "    <tr style=\"text-align: right;\">\n",
       "      <th></th>\n",
       "      <th>dre</th>\n",
       "      <th>codesc</th>\n",
       "      <th>tipoesc</th>\n",
       "      <th>nomesc</th>\n",
       "      <th>distrito</th>\n",
       "      <th>setor</th>\n",
       "      <th>ano</th>\n",
       "      <th>rede</th>\n",
       "      <th>modal</th>\n",
       "      <th>descserie</th>\n",
       "      <th>periodo</th>\n",
       "      <th>turno</th>\n",
       "      <th>descturno</th>\n",
       "      <th>sexo</th>\n",
       "      <th>idade</th>\n",
       "      <th>nee</th>\n",
       "      <th>raca</th>\n",
       "      <th>qtde</th>\n",
       "      <th>database</th>\n",
       "    </tr>\n",
       "  </thead>\n",
       "  <tbody>\n",
       "    <tr>\n",
       "      <th>0</th>\n",
       "      <td>BT</td>\n",
       "      <td>191</td>\n",
       "      <td>EMEF</td>\n",
       "      <td>ALIPIO CORREA NETO, PROF.</td>\n",
       "      <td>VILA SONIA</td>\n",
       "      <td>9404</td>\n",
       "      <td>2016</td>\n",
       "      <td>DIR</td>\n",
       "      <td>ATCOMP</td>\n",
       "      <td>JOGOS EDUCATIVO</td>\n",
       "      <td>DIURNO</td>\n",
       "      <td>3</td>\n",
       "      <td>Tarde</td>\n",
       "      <td>F</td>\n",
       "      <td>12.0</td>\n",
       "      <td>NAO POSSUI</td>\n",
       "      <td>PARDA</td>\n",
       "      <td>2</td>\n",
       "      <td>30/09/2016</td>\n",
       "    </tr>\n",
       "    <tr>\n",
       "      <th>1</th>\n",
       "      <td>BT</td>\n",
       "      <td>191</td>\n",
       "      <td>EMEF</td>\n",
       "      <td>ALIPIO CORREA NETO, PROF.</td>\n",
       "      <td>VILA SONIA</td>\n",
       "      <td>9404</td>\n",
       "      <td>2016</td>\n",
       "      <td>DIR</td>\n",
       "      <td>ATCOMP</td>\n",
       "      <td>JOGOS EDUCATIVO</td>\n",
       "      <td>DIURNO</td>\n",
       "      <td>3</td>\n",
       "      <td>Tarde</td>\n",
       "      <td>F</td>\n",
       "      <td>13.0</td>\n",
       "      <td>NAO POSSUI</td>\n",
       "      <td>NÃO DECLARADA</td>\n",
       "      <td>1</td>\n",
       "      <td>30/09/2016</td>\n",
       "    </tr>\n",
       "    <tr>\n",
       "      <th>2</th>\n",
       "      <td>BT</td>\n",
       "      <td>191</td>\n",
       "      <td>EMEF</td>\n",
       "      <td>ALIPIO CORREA NETO, PROF.</td>\n",
       "      <td>VILA SONIA</td>\n",
       "      <td>9404</td>\n",
       "      <td>2016</td>\n",
       "      <td>DIR</td>\n",
       "      <td>ATCOMP</td>\n",
       "      <td>JOGOS EDUCATIVO</td>\n",
       "      <td>DIURNO</td>\n",
       "      <td>3</td>\n",
       "      <td>Tarde</td>\n",
       "      <td>F</td>\n",
       "      <td>15.0</td>\n",
       "      <td>NAO POSSUI</td>\n",
       "      <td>PARDA</td>\n",
       "      <td>1</td>\n",
       "      <td>30/09/2016</td>\n",
       "    </tr>\n",
       "    <tr>\n",
       "      <th>3</th>\n",
       "      <td>BT</td>\n",
       "      <td>191</td>\n",
       "      <td>EMEF</td>\n",
       "      <td>ALIPIO CORREA NETO, PROF.</td>\n",
       "      <td>VILA SONIA</td>\n",
       "      <td>9404</td>\n",
       "      <td>2016</td>\n",
       "      <td>DIR</td>\n",
       "      <td>ATCOMP</td>\n",
       "      <td>JOGOS EDUCATIVO</td>\n",
       "      <td>DIURNO</td>\n",
       "      <td>3</td>\n",
       "      <td>Tarde</td>\n",
       "      <td>M</td>\n",
       "      <td>11.0</td>\n",
       "      <td>NAO POSSUI</td>\n",
       "      <td>NÃO DECLARADA</td>\n",
       "      <td>1</td>\n",
       "      <td>30/09/2016</td>\n",
       "    </tr>\n",
       "    <tr>\n",
       "      <th>4</th>\n",
       "      <td>BT</td>\n",
       "      <td>191</td>\n",
       "      <td>EMEF</td>\n",
       "      <td>ALIPIO CORREA NETO, PROF.</td>\n",
       "      <td>VILA SONIA</td>\n",
       "      <td>9404</td>\n",
       "      <td>2016</td>\n",
       "      <td>DIR</td>\n",
       "      <td>ATCOMP</td>\n",
       "      <td>JOGOS EDUCATIVO</td>\n",
       "      <td>DIURNO</td>\n",
       "      <td>3</td>\n",
       "      <td>Tarde</td>\n",
       "      <td>M</td>\n",
       "      <td>11.0</td>\n",
       "      <td>NAO POSSUI</td>\n",
       "      <td>PARDA</td>\n",
       "      <td>1</td>\n",
       "      <td>30/09/2016</td>\n",
       "    </tr>\n",
       "  </tbody>\n",
       "</table>\n",
       "</div>"
      ],
      "text/plain": [
       "  dre  codesc tipoesc                     nomesc    distrito  setor   ano  \\\n",
       "0  BT     191    EMEF  ALIPIO CORREA NETO, PROF.  VILA SONIA   9404  2016   \n",
       "1  BT     191    EMEF  ALIPIO CORREA NETO, PROF.  VILA SONIA   9404  2016   \n",
       "2  BT     191    EMEF  ALIPIO CORREA NETO, PROF.  VILA SONIA   9404  2016   \n",
       "3  BT     191    EMEF  ALIPIO CORREA NETO, PROF.  VILA SONIA   9404  2016   \n",
       "4  BT     191    EMEF  ALIPIO CORREA NETO, PROF.  VILA SONIA   9404  2016   \n",
       "\n",
       "  rede   modal        descserie periodo  turno descturno sexo  idade  \\\n",
       "0  DIR  ATCOMP  JOGOS EDUCATIVO  DIURNO      3     Tarde    F   12.0   \n",
       "1  DIR  ATCOMP  JOGOS EDUCATIVO  DIURNO      3     Tarde    F   13.0   \n",
       "2  DIR  ATCOMP  JOGOS EDUCATIVO  DIURNO      3     Tarde    F   15.0   \n",
       "3  DIR  ATCOMP  JOGOS EDUCATIVO  DIURNO      3     Tarde    M   11.0   \n",
       "4  DIR  ATCOMP  JOGOS EDUCATIVO  DIURNO      3     Tarde    M   11.0   \n",
       "\n",
       "          nee           raca  qtde    database  \n",
       "0  NAO POSSUI          PARDA     2  30/09/2016  \n",
       "1  NAO POSSUI  NÃO DECLARADA     1  30/09/2016  \n",
       "2  NAO POSSUI          PARDA     1  30/09/2016  \n",
       "3  NAO POSSUI  NÃO DECLARADA     1  30/09/2016  \n",
       "4  NAO POSSUI          PARDA     1  30/09/2016  "
      ]
     },
     "execution_count": 158,
     "metadata": {},
     "output_type": "execute_result"
    }
   ],
   "source": [
    "df_estudantes.head()"
   ]
  },
  {
   "cell_type": "code",
   "execution_count": 159,
   "metadata": {},
   "outputs": [
    {
     "name": "stdout",
     "output_type": "stream",
     "text": [
      "<class 'pandas.core.frame.DataFrame'>\n",
      "RangeIndex: 2982929 entries, 0 to 2982928\n",
      "Data columns (total 19 columns):\n",
      " #   Column     Dtype  \n",
      "---  ------     -----  \n",
      " 0   dre        object \n",
      " 1   codesc     int64  \n",
      " 2   tipoesc    object \n",
      " 3   nomesc     object \n",
      " 4   distrito   object \n",
      " 5   setor      int64  \n",
      " 6   ano        int64  \n",
      " 7   rede       object \n",
      " 8   modal      object \n",
      " 9   descserie  object \n",
      " 10  periodo    object \n",
      " 11  turno      int64  \n",
      " 12  descturno  object \n",
      " 13  sexo       object \n",
      " 14  idade      float64\n",
      " 15  nee        object \n",
      " 16  raca       object \n",
      " 17  qtde       int64  \n",
      " 18  database   object \n",
      "dtypes: float64(1), int64(5), object(13)\n",
      "memory usage: 432.4+ MB\n"
     ]
    }
   ],
   "source": [
    "df_estudantes.info()"
   ]
  },
  {
   "cell_type": "code",
   "execution_count": 160,
   "metadata": {},
   "outputs": [],
   "source": [
    "import dask.dataframe as dd"
   ]
  },
  {
   "cell_type": "markdown",
   "metadata": {},
   "source": [
    "## General"
   ]
  },
  {
   "cell_type": "code",
   "execution_count": 239,
   "metadata": {},
   "outputs": [],
   "source": [
    "df_cleaned = df_estudantes.copy() #dd.from_pandas(df_estudantes.copy(), npartitions=8)\n",
    "columns = df_cleaned.columns\n",
    "\n",
    "for col in columns:\n",
    "    if df_cleaned[col].dtype == 'object' or pd.api.types.is_string_dtype(df_cleaned[col]):\n",
    "        df_cleaned[col] = df_cleaned[col].str.lower().str.strip()"
   ]
  },
  {
   "cell_type": "code",
   "execution_count": 240,
   "metadata": {},
   "outputs": [],
   "source": [
    "df_cleaned = df_cleaned.drop_duplicates()"
   ]
  },
  {
   "cell_type": "markdown",
   "metadata": {},
   "source": [
    "## Date"
   ]
  },
  {
   "cell_type": "code",
   "execution_count": 242,
   "metadata": {},
   "outputs": [],
   "source": [
    "date_abv = {\n",
    "    \"jan\": '01',\n",
    "    \"fev\": '02',\n",
    "    \"mar\": '03',\n",
    "    \"abr\": '04',\n",
    "    \"mai\": '05',\n",
    "    \"jun\": '06',\n",
    "    \"jul\": '07',\n",
    "    'ago': '08',\n",
    "    'set': '09',\n",
    "    'out': '10',\n",
    "    'nov': '11',\n",
    "    'dez': '12',\n",
    "    '00:00': ''\n",
    "      }"
   ]
  },
  {
   "cell_type": "code",
   "execution_count": 243,
   "metadata": {},
   "outputs": [],
   "source": [
    "# Define a function to handle mixed date formats\n",
    "def parse_dates(date):\n",
    "    try:\n",
    "        # Try parsing as DD/MM/YYYY\n",
    "        return pd.to_datetime(date, format='%d/%m/%Y', errors='raise')\n",
    "    except:\n",
    "        try:\n",
    "            # Try parsing as DD/MM/YY\n",
    "            return pd.to_datetime(date, format='%d/%m/%y', errors='raise')\n",
    "        except:\n",
    "            # Return NaT if parsing fails\n",
    "            return pd.NaT"
   ]
  },
  {
   "cell_type": "code",
   "execution_count": 244,
   "metadata": {},
   "outputs": [
    {
     "data": {
      "text/plain": [
       "array(['30/09/2016', '28-dez-17', '30/12/2018', '27/12/2019',\n",
       "       '31/12/2020', '31/12/2021', '30/12/2022 00:00', '25/12/2023 00:00'],\n",
       "      dtype=object)"
      ]
     },
     "execution_count": 244,
     "metadata": {},
     "output_type": "execute_result"
    }
   ],
   "source": [
    "df_cleaned[\"database\"].unique()"
   ]
  },
  {
   "cell_type": "code",
   "execution_count": 245,
   "metadata": {},
   "outputs": [],
   "source": [
    "# for col in date_columns:\n",
    "df_cleaned['database'] = df_cleaned['database'].replace(date_abv, regex=True)\n",
    "#df_cleaned['database'] = df_cleaned['database'].apply(parse_dates).tail()\n",
    "df_cleaned['database'] = (df_cleaned['database']\n",
    "                          .str.lower()\n",
    "                          .str.strip()\n",
    "                    )"
   ]
  },
  {
   "cell_type": "code",
   "execution_count": 246,
   "metadata": {},
   "outputs": [],
   "source": [
    "df_cleaned[\"database\"] = pd.to_datetime(df_cleaned[\"database\"], format='mixed', dayfirst=True)"
   ]
  },
  {
   "cell_type": "code",
   "execution_count": 248,
   "metadata": {},
   "outputs": [
    {
     "data": {
      "text/html": [
       "<div>\n",
       "<style scoped>\n",
       "    .dataframe tbody tr th:only-of-type {\n",
       "        vertical-align: middle;\n",
       "    }\n",
       "\n",
       "    .dataframe tbody tr th {\n",
       "        vertical-align: top;\n",
       "    }\n",
       "\n",
       "    .dataframe thead th {\n",
       "        text-align: right;\n",
       "    }\n",
       "</style>\n",
       "<table border=\"1\" class=\"dataframe\">\n",
       "  <thead>\n",
       "    <tr style=\"text-align: right;\">\n",
       "      <th></th>\n",
       "      <th>dre</th>\n",
       "      <th>codesc</th>\n",
       "      <th>tipoesc</th>\n",
       "      <th>nomesc</th>\n",
       "      <th>distrito</th>\n",
       "      <th>setor</th>\n",
       "      <th>ano</th>\n",
       "      <th>rede</th>\n",
       "      <th>modal</th>\n",
       "      <th>descserie</th>\n",
       "      <th>periodo</th>\n",
       "      <th>turno</th>\n",
       "      <th>descturno</th>\n",
       "      <th>sexo</th>\n",
       "      <th>idade</th>\n",
       "      <th>nee</th>\n",
       "      <th>raca</th>\n",
       "      <th>qtde</th>\n",
       "      <th>database</th>\n",
       "    </tr>\n",
       "  </thead>\n",
       "  <tbody>\n",
       "    <tr>\n",
       "      <th>0</th>\n",
       "      <td>bt</td>\n",
       "      <td>191</td>\n",
       "      <td>emef</td>\n",
       "      <td>alipio correa neto, prof.</td>\n",
       "      <td>vila sonia</td>\n",
       "      <td>9404</td>\n",
       "      <td>2016</td>\n",
       "      <td>dir</td>\n",
       "      <td>atcomp</td>\n",
       "      <td>jogos educativo</td>\n",
       "      <td>diurno</td>\n",
       "      <td>3</td>\n",
       "      <td>tarde</td>\n",
       "      <td>f</td>\n",
       "      <td>12.0</td>\n",
       "      <td>nao possui</td>\n",
       "      <td>parda</td>\n",
       "      <td>2</td>\n",
       "      <td>2016-09-30</td>\n",
       "    </tr>\n",
       "    <tr>\n",
       "      <th>1</th>\n",
       "      <td>bt</td>\n",
       "      <td>191</td>\n",
       "      <td>emef</td>\n",
       "      <td>alipio correa neto, prof.</td>\n",
       "      <td>vila sonia</td>\n",
       "      <td>9404</td>\n",
       "      <td>2016</td>\n",
       "      <td>dir</td>\n",
       "      <td>atcomp</td>\n",
       "      <td>jogos educativo</td>\n",
       "      <td>diurno</td>\n",
       "      <td>3</td>\n",
       "      <td>tarde</td>\n",
       "      <td>f</td>\n",
       "      <td>13.0</td>\n",
       "      <td>nao possui</td>\n",
       "      <td>não declarada</td>\n",
       "      <td>1</td>\n",
       "      <td>2016-09-30</td>\n",
       "    </tr>\n",
       "    <tr>\n",
       "      <th>2</th>\n",
       "      <td>bt</td>\n",
       "      <td>191</td>\n",
       "      <td>emef</td>\n",
       "      <td>alipio correa neto, prof.</td>\n",
       "      <td>vila sonia</td>\n",
       "      <td>9404</td>\n",
       "      <td>2016</td>\n",
       "      <td>dir</td>\n",
       "      <td>atcomp</td>\n",
       "      <td>jogos educativo</td>\n",
       "      <td>diurno</td>\n",
       "      <td>3</td>\n",
       "      <td>tarde</td>\n",
       "      <td>f</td>\n",
       "      <td>15.0</td>\n",
       "      <td>nao possui</td>\n",
       "      <td>parda</td>\n",
       "      <td>1</td>\n",
       "      <td>2016-09-30</td>\n",
       "    </tr>\n",
       "    <tr>\n",
       "      <th>3</th>\n",
       "      <td>bt</td>\n",
       "      <td>191</td>\n",
       "      <td>emef</td>\n",
       "      <td>alipio correa neto, prof.</td>\n",
       "      <td>vila sonia</td>\n",
       "      <td>9404</td>\n",
       "      <td>2016</td>\n",
       "      <td>dir</td>\n",
       "      <td>atcomp</td>\n",
       "      <td>jogos educativo</td>\n",
       "      <td>diurno</td>\n",
       "      <td>3</td>\n",
       "      <td>tarde</td>\n",
       "      <td>m</td>\n",
       "      <td>11.0</td>\n",
       "      <td>nao possui</td>\n",
       "      <td>não declarada</td>\n",
       "      <td>1</td>\n",
       "      <td>2016-09-30</td>\n",
       "    </tr>\n",
       "    <tr>\n",
       "      <th>4</th>\n",
       "      <td>bt</td>\n",
       "      <td>191</td>\n",
       "      <td>emef</td>\n",
       "      <td>alipio correa neto, prof.</td>\n",
       "      <td>vila sonia</td>\n",
       "      <td>9404</td>\n",
       "      <td>2016</td>\n",
       "      <td>dir</td>\n",
       "      <td>atcomp</td>\n",
       "      <td>jogos educativo</td>\n",
       "      <td>diurno</td>\n",
       "      <td>3</td>\n",
       "      <td>tarde</td>\n",
       "      <td>m</td>\n",
       "      <td>11.0</td>\n",
       "      <td>nao possui</td>\n",
       "      <td>parda</td>\n",
       "      <td>1</td>\n",
       "      <td>2016-09-30</td>\n",
       "    </tr>\n",
       "  </tbody>\n",
       "</table>\n",
       "</div>"
      ],
      "text/plain": [
       "  dre  codesc tipoesc                     nomesc    distrito  setor   ano  \\\n",
       "0  bt     191    emef  alipio correa neto, prof.  vila sonia   9404  2016   \n",
       "1  bt     191    emef  alipio correa neto, prof.  vila sonia   9404  2016   \n",
       "2  bt     191    emef  alipio correa neto, prof.  vila sonia   9404  2016   \n",
       "3  bt     191    emef  alipio correa neto, prof.  vila sonia   9404  2016   \n",
       "4  bt     191    emef  alipio correa neto, prof.  vila sonia   9404  2016   \n",
       "\n",
       "  rede   modal        descserie periodo  turno descturno sexo  idade  \\\n",
       "0  dir  atcomp  jogos educativo  diurno      3     tarde    f   12.0   \n",
       "1  dir  atcomp  jogos educativo  diurno      3     tarde    f   13.0   \n",
       "2  dir  atcomp  jogos educativo  diurno      3     tarde    f   15.0   \n",
       "3  dir  atcomp  jogos educativo  diurno      3     tarde    m   11.0   \n",
       "4  dir  atcomp  jogos educativo  diurno      3     tarde    m   11.0   \n",
       "\n",
       "          nee           raca  qtde   database  \n",
       "0  nao possui          parda     2 2016-09-30  \n",
       "1  nao possui  não declarada     1 2016-09-30  \n",
       "2  nao possui          parda     1 2016-09-30  \n",
       "3  nao possui  não declarada     1 2016-09-30  \n",
       "4  nao possui          parda     1 2016-09-30  "
      ]
     },
     "execution_count": 248,
     "metadata": {},
     "output_type": "execute_result"
    }
   ],
   "source": [
    "df_cleaned.head()"
   ]
  },
  {
   "cell_type": "markdown",
   "metadata": {},
   "source": [
    "## Text Columns"
   ]
  },
  {
   "cell_type": "code",
   "execution_count": 256,
   "metadata": {},
   "outputs": [],
   "source": [
    "exclude_cols = ['dre', \"tipoesc\", \"nomesc\", \"distrito\", \"setor\"]\n",
    "df_cleaned = df_cleaned.drop(columns=exclude_cols)"
   ]
  },
  {
   "cell_type": "code",
   "execution_count": 257,
   "metadata": {},
   "outputs": [
    {
     "name": "stdout",
     "output_type": "stream",
     "text": [
      "<class 'pandas.core.frame.DataFrame'>\n",
      "Index: 2797753 entries, 0 to 2982928\n",
      "Data columns (total 14 columns):\n",
      " #   Column     Dtype         \n",
      "---  ------     -----         \n",
      " 0   codesc     int64         \n",
      " 1   ano        int64         \n",
      " 2   rede       object        \n",
      " 3   modal      object        \n",
      " 4   descserie  object        \n",
      " 5   periodo    object        \n",
      " 6   turno      int64         \n",
      " 7   descturno  object        \n",
      " 8   sexo       object        \n",
      " 9   idade      float64       \n",
      " 10  nee        object        \n",
      " 11  raca       object        \n",
      " 12  qtde       int64         \n",
      " 13  database   datetime64[ns]\n",
      "dtypes: datetime64[ns](1), float64(1), int64(4), object(8)\n",
      "memory usage: 320.2+ MB\n"
     ]
    }
   ],
   "source": [
    "df_cleaned.info()"
   ]
  },
  {
   "cell_type": "code",
   "execution_count": 262,
   "metadata": {},
   "outputs": [
    {
     "data": {
      "text/plain": [
       "codesc            0\n",
       "ano               0\n",
       "rede           9473\n",
       "modal         22424\n",
       "descserie         6\n",
       "periodo           0\n",
       "turno             0\n",
       "descturno         0\n",
       "sexo            467\n",
       "idade           449\n",
       "nee               0\n",
       "raca         178666\n",
       "qtde              0\n",
       "database          0\n",
       "dtype: int64"
      ]
     },
     "execution_count": 262,
     "metadata": {},
     "output_type": "execute_result"
    }
   ],
   "source": [
    "df_cleaned.isna().sum()"
   ]
  },
  {
   "cell_type": "code",
   "execution_count": 260,
   "metadata": {},
   "outputs": [
    {
     "data": {
      "text/plain": [
       "array(['atcomp', 'fund', 'rec', 'saai', 'pre', 'eja', 'creche', 'osl',\n",
       "       'proj', 'mova', 'convee', 'oie', 'espec', 'medio', 'edprof',\n",
       "       'ensino fundamental de 9 anos', 'educacao infantil',\n",
       "       'eja escolas ensino fundamental', 'eja cieja',\n",
       "       'ensino fundamental 9 anos', 'ensino medio', 'tecnico medio',\n",
       "       'eja escolas educacao especial', 'espec ens medio',\n",
       "       'ensino medio normal/magisterio', None, 'bercario', 'celp'],\n",
       "      dtype=object)"
      ]
     },
     "execution_count": 260,
     "metadata": {},
     "output_type": "execute_result"
    }
   ],
   "source": [
    "df_cleaned[\"modal\"].unique()"
   ]
  },
  {
   "cell_type": "code",
   "execution_count": 261,
   "metadata": {},
   "outputs": [],
   "source": [
    "new_modals_names = {\n",
    "  \"ensino fundamental de 9 anos\": \"fund\",\n",
    "  \"educacao infantil\": \"pre\",\n",
    "  \"eja escolas ensino fundamental\": \"eja\",\n",
    "  \"eja cieja\": 'eja',\n",
    "  \"ensino fundamental 9 anos\": \"fund\",\n",
    "  \"ensino medio\": \"medio\",\n",
    "  \"tecnico medio\": \"medio\",\n",
    "  \"eja escolas educacao especial\": \"eja\",\n",
    "  \"esp ens medio\": \"espec\",\n",
    "  \"ensino medio normal/magisterio\": \"medio\",\n",
    "  \"bercario\": \"creche\"\n",
    "}"
   ]
  },
  {
   "cell_type": "code",
   "execution_count": 263,
   "metadata": {},
   "outputs": [],
   "source": [
    "df_cleaned[\"modal\"] = df_cleaned[\"modal\"].replace(new_modals_names, regex=True)"
   ]
  },
  {
   "cell_type": "code",
   "execution_count": 274,
   "metadata": {},
   "outputs": [
    {
     "data": {
      "text/plain": [
       "array(['tarde', 'manhã', 'intermediário', 'noite', 'integral',\n",
       "       'vespertino', 'manhã\\x83â£', 'intermediã\\x83â¡rio', 'manhã£',\n",
       "       'intermediã¡rio'], dtype=object)"
      ]
     },
     "execution_count": 274,
     "metadata": {},
     "output_type": "execute_result"
    }
   ],
   "source": [
    "df_cleaned[\"descturno\"].unique()"
   ]
  },
  {
   "cell_type": "code",
   "execution_count": 277,
   "metadata": {},
   "outputs": [],
   "source": [
    "df_cleaned[\"descturno\"] = df_cleaned[\"descturno\"].apply(remove_non_letters)\n",
    "df_cleaned[\"descturno\"] = df_cleaned[\"descturno\"].apply(remove_acento_caracteres)"
   ]
  },
  {
   "cell_type": "code",
   "execution_count": 284,
   "metadata": {},
   "outputs": [],
   "source": [
    "df_cleaned[\"descturno\"] = df_cleaned[\"descturno\"].replace({\"manhaa\": \"manha\", \"intermediaario\": \"intermediario\"})"
   ]
  },
  {
   "cell_type": "code",
   "execution_count": 285,
   "metadata": {},
   "outputs": [
    {
     "data": {
      "text/plain": [
       "array(['tarde', 'manha', 'intermediario', 'noite', 'integral',\n",
       "       'vespertino'], dtype=object)"
      ]
     },
     "execution_count": 285,
     "metadata": {},
     "output_type": "execute_result"
    }
   ],
   "source": [
    "df_cleaned[\"descturno\"].unique()"
   ]
  },
  {
   "cell_type": "code",
   "execution_count": 287,
   "metadata": {},
   "outputs": [
    {
     "data": {
      "text/plain": [
       "array(['nao possui', 'def fisica não cadeirante', 'autismo',\n",
       "       'deficiencia intelectual', 'sindrome de asperger',\n",
       "       'def fisica cadeirante', 'surdez severa/profunda',\n",
       "       'deficiencia multipla', 'baixa visao/visao subnormal',\n",
       "       'surdez leve/moderada', 'altas habilidades/superdotacao',\n",
       "       'transt desintegrativo infancia', 'cegueira', 'sindrome de rett',\n",
       "       'surdocegueira', 'deficiencia visual',\n",
       "       'defic. fisica nao cadeirante',\n",
       "       'deficiencia multipla nao cadeirante',\n",
       "       'deficiencia multipla cadeirante',\n",
       "       'deficiencia fã\\x83â\\x8dsica cadeirante',\n",
       "       'baixa visao ou visao subnormal', 'codigo nee desativado',\n",
       "       'deficiencia fã\\x8dsica cadeirante', 'sindrome de down',\n",
       "       'paralisia cerebral', 'visao monocular'], dtype=object)"
      ]
     },
     "execution_count": 287,
     "metadata": {},
     "output_type": "execute_result"
    }
   ],
   "source": [
    "df_cleaned[\"nee\"].unique()"
   ]
  },
  {
   "cell_type": "code",
   "execution_count": 289,
   "metadata": {},
   "outputs": [],
   "source": [
    "df_cleaned[\"nee\"] = df_cleaned[\"nee\"].map(remove_non_letters)\n",
    "df_cleaned[\"nee\"] = df_cleaned[\"nee\"].map(remove_acento_caracteres)"
   ]
  },
  {
   "cell_type": "code",
   "execution_count": 292,
   "metadata": {},
   "outputs": [],
   "source": [
    "nee_new_names = {\n",
    "  \"deficiencia faasica cadeirante\": \"deficiencia fasica cadeirante\",\n",
    "  \"surdez severaprofunda\": \"surdez severa ou profuda\",\n",
    "  \"baixa visaovisao subnormal\": \"baixa visao ou visao subnormal\",\n",
    "  \"surdez levemoderada\": \"surdez leve ou moderada\",\n",
    "  \"altas habilidadessuperdotacao\": \"altas habilidades ou superdotacao\",\n",
    "  \"defic fisica nao cadeirante\": \"def fisica nao cadeirante\",\n",
    "  \"deficiencia faasica cadeirante\": \"deficiencia fisica cadeirante\",\n",
    "  \"deficiencia fasica cadeirante\": \"deficiencia fisica cadeirante\"\n",
    "}"
   ]
  },
  {
   "cell_type": "code",
   "execution_count": 294,
   "metadata": {},
   "outputs": [],
   "source": [
    "df_cleaned[\"nee\"] = df_cleaned[\"nee\"].replace(nee_new_names)"
   ]
  },
  {
   "cell_type": "code",
   "execution_count": 298,
   "metadata": {},
   "outputs": [
    {
     "data": {
      "text/plain": [
       "array(['parda', 'não declarada', 'branca', 'preta', 'indigena', None,\n",
       "       'amarela', 'nao informada', 'recusou informar', 'recusou informa'],\n",
       "      dtype=object)"
      ]
     },
     "execution_count": 298,
     "metadata": {},
     "output_type": "execute_result"
    }
   ],
   "source": [
    "df_cleaned[\"raca\"].unique()"
   ]
  },
  {
   "cell_type": "code",
   "execution_count": 300,
   "metadata": {},
   "outputs": [],
   "source": [
    "new_names = {\n",
    "  \"não declarada\": \"nao declarada\",\n",
    "  \"nao informada\": \"nao declarada\",\n",
    "  \"recusou informa\": \"recusou informar\"\n",
    "}"
   ]
  },
  {
   "cell_type": "code",
   "execution_count": 301,
   "metadata": {},
   "outputs": [],
   "source": [
    "df_cleaned['raca'] = df_cleaned['raca'].replace(new_names)"
   ]
  },
  {
   "cell_type": "code",
   "execution_count": 302,
   "metadata": {},
   "outputs": [],
   "source": [
    "df_cleaned[\"raca\"].fillna('nao declarada', inplace=True)"
   ]
  },
  {
   "cell_type": "code",
   "execution_count": 304,
   "metadata": {},
   "outputs": [
    {
     "data": {
      "text/plain": [
       "array(['parda', 'nao declarada', 'branca', 'preta', 'indigena', 'amarela',\n",
       "       'recusou informar'], dtype=object)"
      ]
     },
     "execution_count": 304,
     "metadata": {},
     "output_type": "execute_result"
    }
   ],
   "source": [
    "df_cleaned[\"raca\"].unique()"
   ]
  },
  {
   "cell_type": "code",
   "execution_count": 310,
   "metadata": {},
   "outputs": [],
   "source": [
    "df_cleaned.drop(columns=[\"descserie\"],inplace=True)"
   ]
  },
  {
   "cell_type": "code",
   "execution_count": 311,
   "metadata": {},
   "outputs": [
    {
     "name": "stdout",
     "output_type": "stream",
     "text": [
      "<class 'pandas.core.frame.DataFrame'>\n",
      "Index: 2797753 entries, 0 to 2982928\n",
      "Data columns (total 13 columns):\n",
      " #   Column     Dtype         \n",
      "---  ------     -----         \n",
      " 0   codesc     int64         \n",
      " 1   ano        int64         \n",
      " 2   rede       object        \n",
      " 3   modal      object        \n",
      " 4   periodo    object        \n",
      " 5   turno      int64         \n",
      " 6   descturno  object        \n",
      " 7   sexo       object        \n",
      " 8   idade      float64       \n",
      " 9   nee        object        \n",
      " 10  raca       object        \n",
      " 11  qtde       int64         \n",
      " 12  database   datetime64[ns]\n",
      "dtypes: datetime64[ns](1), float64(1), int64(4), object(7)\n",
      "memory usage: 298.8+ MB\n"
     ]
    }
   ],
   "source": [
    "df_cleaned.info()"
   ]
  },
  {
   "cell_type": "code",
   "execution_count": 313,
   "metadata": {},
   "outputs": [],
   "source": [
    "df_cleaned = df_cleaned.drop_duplicates()"
   ]
  },
  {
   "cell_type": "code",
   "execution_count": 315,
   "metadata": {},
   "outputs": [],
   "source": [
    "df_estudantes_cleaned = df_cleaned.copy()"
   ]
  },
  {
   "cell_type": "markdown",
   "metadata": {},
   "source": [
    "# Loading to Duckdb"
   ]
  },
  {
   "cell_type": "code",
   "execution_count": 333,
   "metadata": {},
   "outputs": [
    {
     "data": {
      "text/html": [
       "<div>\n",
       "<style scoped>\n",
       "    .dataframe tbody tr th:only-of-type {\n",
       "        vertical-align: middle;\n",
       "    }\n",
       "\n",
       "    .dataframe tbody tr th {\n",
       "        vertical-align: top;\n",
       "    }\n",
       "\n",
       "    .dataframe thead th {\n",
       "        text-align: right;\n",
       "    }\n",
       "</style>\n",
       "<table border=\"1\" class=\"dataframe\">\n",
       "  <thead>\n",
       "    <tr style=\"text-align: right;\">\n",
       "      <th></th>\n",
       "      <th>dre</th>\n",
       "      <th>codesc</th>\n",
       "      <th>tipoesc</th>\n",
       "      <th>nomesc</th>\n",
       "      <th>nomescof</th>\n",
       "      <th>diretoria</th>\n",
       "      <th>subpref</th>\n",
       "      <th>endereco</th>\n",
       "      <th>numero</th>\n",
       "      <th>bairro</th>\n",
       "      <th>...</th>\n",
       "      <th>setor</th>\n",
       "      <th>codinep</th>\n",
       "      <th>codcie</th>\n",
       "      <th>fx_etaria</th>\n",
       "      <th>dt_criacao</th>\n",
       "      <th>dt_ini_conv</th>\n",
       "      <th>rede</th>\n",
       "      <th>latitude</th>\n",
       "      <th>longitude</th>\n",
       "      <th>database</th>\n",
       "    </tr>\n",
       "  </thead>\n",
       "  <tbody>\n",
       "    <tr>\n",
       "      <th>0</th>\n",
       "      <td>pj</td>\n",
       "      <td>30993</td>\n",
       "      <td>cr.p.conv</td>\n",
       "      <td>vila sulina</td>\n",
       "      <td>vila sulina</td>\n",
       "      <td>pirituba</td>\n",
       "      <td>perus</td>\n",
       "      <td>rua luísa maria rosa</td>\n",
       "      <td>299</td>\n",
       "      <td>vila sulina</td>\n",
       "      <td>...</td>\n",
       "      <td>304.0</td>\n",
       "      <td>35007199.0</td>\n",
       "      <td>7199.0</td>\n",
       "      <td>00 a 03</td>\n",
       "      <td>2020-03-07</td>\n",
       "      <td>NaT</td>\n",
       "      <td>con</td>\n",
       "      <td>-23445107</td>\n",
       "      <td>-46785264</td>\n",
       "      <td>2020-12-31</td>\n",
       "    </tr>\n",
       "    <tr>\n",
       "      <th>1</th>\n",
       "      <td>pj</td>\n",
       "      <td>200204</td>\n",
       "      <td>ceci</td>\n",
       "      <td>jaragua</td>\n",
       "      <td>jaragua</td>\n",
       "      <td>pirituba</td>\n",
       "      <td>pirituba</td>\n",
       "      <td>avenida comendadorjose de matos</td>\n",
       "      <td>386</td>\n",
       "      <td>vila clarice</td>\n",
       "      <td>...</td>\n",
       "      <td>4202.0</td>\n",
       "      <td>35267181.0</td>\n",
       "      <td>267181.0</td>\n",
       "      <td>zero a 6a e 11m</td>\n",
       "      <td>2004-02-19</td>\n",
       "      <td>2004-12-23</td>\n",
       "      <td>dir</td>\n",
       "      <td>-23463830</td>\n",
       "      <td>-46752228</td>\n",
       "      <td>2010-12-31</td>\n",
       "    </tr>\n",
       "    <tr>\n",
       "      <th>10</th>\n",
       "      <td>cs</td>\n",
       "      <td>200205</td>\n",
       "      <td>ceci</td>\n",
       "      <td>krukutu</td>\n",
       "      <td>krukutu</td>\n",
       "      <td>capela do socorro</td>\n",
       "      <td>parelheiros</td>\n",
       "      <td>estradado curucutu</td>\n",
       "      <td>sn</td>\n",
       "      <td>parelheiros</td>\n",
       "      <td>...</td>\n",
       "      <td>5513.0</td>\n",
       "      <td>35267193.0</td>\n",
       "      <td>267193.0</td>\n",
       "      <td>zero a 6a e 11m</td>\n",
       "      <td>2004-02-19</td>\n",
       "      <td>2004-12-23</td>\n",
       "      <td>dir</td>\n",
       "      <td>-23879692</td>\n",
       "      <td>-46622206</td>\n",
       "      <td>2010-12-31</td>\n",
       "    </tr>\n",
       "    <tr>\n",
       "      <th>19</th>\n",
       "      <td>cs</td>\n",
       "      <td>200206</td>\n",
       "      <td>ceci</td>\n",
       "      <td>tenonde pora</td>\n",
       "      <td>tenonde pora</td>\n",
       "      <td>capela do socorro</td>\n",
       "      <td>parelheiros</td>\n",
       "      <td>engenheiro joão lang</td>\n",
       "      <td>153</td>\n",
       "      <td>jardim martini</td>\n",
       "      <td>...</td>\n",
       "      <td>5513.0</td>\n",
       "      <td>35267200.0</td>\n",
       "      <td>267200.0</td>\n",
       "      <td>zero a 6a e11m</td>\n",
       "      <td>2004-02-19</td>\n",
       "      <td>2004-12-23</td>\n",
       "      <td>dir</td>\n",
       "      <td>-23872420</td>\n",
       "      <td>-46650664</td>\n",
       "      <td>2010-12-31</td>\n",
       "    </tr>\n",
       "    <tr>\n",
       "      <th>28</th>\n",
       "      <td>sa</td>\n",
       "      <td>300080</td>\n",
       "      <td>esc.part.</td>\n",
       "      <td>jardim da infancia tia lolo</td>\n",
       "      <td>None</td>\n",
       "      <td>santo amaro</td>\n",
       "      <td>santo amaro</td>\n",
       "      <td>rua itagyba santiago</td>\n",
       "      <td>48</td>\n",
       "      <td>vila alexandria</td>\n",
       "      <td>...</td>\n",
       "      <td>1501.0</td>\n",
       "      <td>35105995.0</td>\n",
       "      <td>NaN</td>\n",
       "      <td>0 a 5 anos</td>\n",
       "      <td>NaT</td>\n",
       "      <td>NaT</td>\n",
       "      <td>None</td>\n",
       "      <td>-23.639.448</td>\n",
       "      <td>-46.669.338</td>\n",
       "      <td>2018-12-30</td>\n",
       "    </tr>\n",
       "  </tbody>\n",
       "</table>\n",
       "<p>5 rows × 24 columns</p>\n",
       "</div>"
      ],
      "text/plain": [
       "   dre  codesc    tipoesc                       nomesc      nomescof  \\\n",
       "0   pj   30993  cr.p.conv                  vila sulina   vila sulina   \n",
       "1   pj  200204       ceci                      jaragua       jaragua   \n",
       "10  cs  200205       ceci                      krukutu       krukutu   \n",
       "19  cs  200206       ceci                 tenonde pora  tenonde pora   \n",
       "28  sa  300080  esc.part.  jardim da infancia tia lolo          None   \n",
       "\n",
       "            diretoria      subpref                         endereco numero  \\\n",
       "0            pirituba        perus             rua luísa maria rosa    299   \n",
       "1            pirituba     pirituba  avenida comendadorjose de matos    386   \n",
       "10  capela do socorro  parelheiros               estradado curucutu     sn   \n",
       "19  capela do socorro  parelheiros             engenheiro joão lang    153   \n",
       "28        santo amaro  santo amaro             rua itagyba santiago     48   \n",
       "\n",
       "             bairro  ...   setor     codinep    codcie        fx_etaria  \\\n",
       "0       vila sulina  ...   304.0  35007199.0    7199.0          00 a 03   \n",
       "1      vila clarice  ...  4202.0  35267181.0  267181.0  zero a 6a e 11m   \n",
       "10      parelheiros  ...  5513.0  35267193.0  267193.0  zero a 6a e 11m   \n",
       "19   jardim martini  ...  5513.0  35267200.0  267200.0   zero a 6a e11m   \n",
       "28  vila alexandria  ...  1501.0  35105995.0       NaN       0 a 5 anos   \n",
       "\n",
       "    dt_criacao  dt_ini_conv  rede     latitude    longitude   database  \n",
       "0   2020-03-07          NaT   con    -23445107    -46785264 2020-12-31  \n",
       "1   2004-02-19   2004-12-23   dir    -23463830    -46752228 2010-12-31  \n",
       "10  2004-02-19   2004-12-23   dir    -23879692    -46622206 2010-12-31  \n",
       "19  2004-02-19   2004-12-23   dir    -23872420    -46650664 2010-12-31  \n",
       "28         NaT          NaT  None  -23.639.448  -46.669.338 2018-12-30  \n",
       "\n",
       "[5 rows x 24 columns]"
      ]
     },
     "execution_count": 333,
     "metadata": {},
     "output_type": "execute_result"
    }
   ],
   "source": [
    "df_escolas_cleaned.head()"
   ]
  },
  {
   "cell_type": "code",
   "execution_count": 337,
   "metadata": {},
   "outputs": [],
   "source": [
    "mask = df_escolas_cleaned[\"codesc\"] ==400750"
   ]
  },
  {
   "cell_type": "code",
   "execution_count": 338,
   "metadata": {},
   "outputs": [
    {
     "data": {
      "text/html": [
       "<div>\n",
       "<style scoped>\n",
       "    .dataframe tbody tr th:only-of-type {\n",
       "        vertical-align: middle;\n",
       "    }\n",
       "\n",
       "    .dataframe tbody tr th {\n",
       "        vertical-align: top;\n",
       "    }\n",
       "\n",
       "    .dataframe thead th {\n",
       "        text-align: right;\n",
       "    }\n",
       "</style>\n",
       "<table border=\"1\" class=\"dataframe\">\n",
       "  <thead>\n",
       "    <tr style=\"text-align: right;\">\n",
       "      <th></th>\n",
       "      <th>dre</th>\n",
       "      <th>codesc</th>\n",
       "      <th>tipoesc</th>\n",
       "      <th>nomesc</th>\n",
       "      <th>nomescof</th>\n",
       "      <th>diretoria</th>\n",
       "      <th>subpref</th>\n",
       "      <th>endereco</th>\n",
       "      <th>numero</th>\n",
       "      <th>bairro</th>\n",
       "      <th>...</th>\n",
       "      <th>setor</th>\n",
       "      <th>codinep</th>\n",
       "      <th>codcie</th>\n",
       "      <th>fx_etaria</th>\n",
       "      <th>dt_criacao</th>\n",
       "      <th>dt_ini_conv</th>\n",
       "      <th>rede</th>\n",
       "      <th>latitude</th>\n",
       "      <th>longitude</th>\n",
       "      <th>database</th>\n",
       "    </tr>\n",
       "  </thead>\n",
       "  <tbody>\n",
       "    <tr>\n",
       "      <th>22577</th>\n",
       "      <td>jt</td>\n",
       "      <td>400750</td>\n",
       "      <td>cei indir</td>\n",
       "      <td>cerejeiras</td>\n",
       "      <td>cerejeiras</td>\n",
       "      <td>jacana/tremembe</td>\n",
       "      <td>vila maria/vila guilherme</td>\n",
       "      <td>rua soldado josé higaskino</td>\n",
       "      <td>5</td>\n",
       "      <td>jardim japao</td>\n",
       "      <td>...</td>\n",
       "      <td>8905.0</td>\n",
       "      <td>35474548.0</td>\n",
       "      <td>35474548.0</td>\n",
       "      <td>0a a 3a</td>\n",
       "      <td>2012-06-01</td>\n",
       "      <td>2012-06-01</td>\n",
       "      <td>con</td>\n",
       "      <td>-23510122</td>\n",
       "      <td>-46575400</td>\n",
       "      <td>2012-12-27</td>\n",
       "    </tr>\n",
       "  </tbody>\n",
       "</table>\n",
       "<p>1 rows × 24 columns</p>\n",
       "</div>"
      ],
      "text/plain": [
       "      dre  codesc    tipoesc      nomesc    nomescof        diretoria  \\\n",
       "22577  jt  400750  cei indir  cerejeiras  cerejeiras  jacana/tremembe   \n",
       "\n",
       "                         subpref                    endereco numero  \\\n",
       "22577  vila maria/vila guilherme  rua soldado josé higaskino      5   \n",
       "\n",
       "             bairro  ...   setor     codinep      codcie fx_etaria  \\\n",
       "22577  jardim japao  ...  8905.0  35474548.0  35474548.0   0a a 3a   \n",
       "\n",
       "       dt_criacao  dt_ini_conv  rede   latitude  longitude   database  \n",
       "22577  2012-06-01   2012-06-01   con  -23510122  -46575400 2012-12-27  \n",
       "\n",
       "[1 rows x 24 columns]"
      ]
     },
     "execution_count": 338,
     "metadata": {},
     "output_type": "execute_result"
    }
   ],
   "source": [
    "df_escolas_cleaned[mask]"
   ]
  },
  {
   "cell_type": "code",
   "execution_count": 334,
   "metadata": {},
   "outputs": [
    {
     "data": {
      "text/html": [
       "<div>\n",
       "<style scoped>\n",
       "    .dataframe tbody tr th:only-of-type {\n",
       "        vertical-align: middle;\n",
       "    }\n",
       "\n",
       "    .dataframe tbody tr th {\n",
       "        vertical-align: top;\n",
       "    }\n",
       "\n",
       "    .dataframe thead th {\n",
       "        text-align: right;\n",
       "    }\n",
       "</style>\n",
       "<table border=\"1\" class=\"dataframe\">\n",
       "  <thead>\n",
       "    <tr style=\"text-align: right;\">\n",
       "      <th></th>\n",
       "      <th>codesc</th>\n",
       "      <th>ano</th>\n",
       "      <th>rede</th>\n",
       "      <th>modal</th>\n",
       "      <th>periodo</th>\n",
       "      <th>turno</th>\n",
       "      <th>descturno</th>\n",
       "      <th>sexo</th>\n",
       "      <th>idade</th>\n",
       "      <th>nee</th>\n",
       "      <th>raca</th>\n",
       "      <th>qtde</th>\n",
       "      <th>database</th>\n",
       "    </tr>\n",
       "  </thead>\n",
       "  <tbody>\n",
       "    <tr>\n",
       "      <th>0</th>\n",
       "      <td>191</td>\n",
       "      <td>2016</td>\n",
       "      <td>dir</td>\n",
       "      <td>atcomp</td>\n",
       "      <td>diurno</td>\n",
       "      <td>3</td>\n",
       "      <td>tarde</td>\n",
       "      <td>f</td>\n",
       "      <td>12.0</td>\n",
       "      <td>nao possui</td>\n",
       "      <td>parda</td>\n",
       "      <td>2</td>\n",
       "      <td>2016-09-30</td>\n",
       "    </tr>\n",
       "    <tr>\n",
       "      <th>1</th>\n",
       "      <td>191</td>\n",
       "      <td>2016</td>\n",
       "      <td>dir</td>\n",
       "      <td>atcomp</td>\n",
       "      <td>diurno</td>\n",
       "      <td>3</td>\n",
       "      <td>tarde</td>\n",
       "      <td>f</td>\n",
       "      <td>13.0</td>\n",
       "      <td>nao possui</td>\n",
       "      <td>nao declarada</td>\n",
       "      <td>1</td>\n",
       "      <td>2016-09-30</td>\n",
       "    </tr>\n",
       "    <tr>\n",
       "      <th>2</th>\n",
       "      <td>191</td>\n",
       "      <td>2016</td>\n",
       "      <td>dir</td>\n",
       "      <td>atcomp</td>\n",
       "      <td>diurno</td>\n",
       "      <td>3</td>\n",
       "      <td>tarde</td>\n",
       "      <td>f</td>\n",
       "      <td>15.0</td>\n",
       "      <td>nao possui</td>\n",
       "      <td>parda</td>\n",
       "      <td>1</td>\n",
       "      <td>2016-09-30</td>\n",
       "    </tr>\n",
       "    <tr>\n",
       "      <th>3</th>\n",
       "      <td>191</td>\n",
       "      <td>2016</td>\n",
       "      <td>dir</td>\n",
       "      <td>atcomp</td>\n",
       "      <td>diurno</td>\n",
       "      <td>3</td>\n",
       "      <td>tarde</td>\n",
       "      <td>m</td>\n",
       "      <td>11.0</td>\n",
       "      <td>nao possui</td>\n",
       "      <td>nao declarada</td>\n",
       "      <td>1</td>\n",
       "      <td>2016-09-30</td>\n",
       "    </tr>\n",
       "    <tr>\n",
       "      <th>4</th>\n",
       "      <td>191</td>\n",
       "      <td>2016</td>\n",
       "      <td>dir</td>\n",
       "      <td>atcomp</td>\n",
       "      <td>diurno</td>\n",
       "      <td>3</td>\n",
       "      <td>tarde</td>\n",
       "      <td>m</td>\n",
       "      <td>11.0</td>\n",
       "      <td>nao possui</td>\n",
       "      <td>parda</td>\n",
       "      <td>1</td>\n",
       "      <td>2016-09-30</td>\n",
       "    </tr>\n",
       "  </tbody>\n",
       "</table>\n",
       "</div>"
      ],
      "text/plain": [
       "   codesc   ano rede   modal periodo  turno descturno sexo  idade         nee  \\\n",
       "0     191  2016  dir  atcomp  diurno      3     tarde    f   12.0  nao possui   \n",
       "1     191  2016  dir  atcomp  diurno      3     tarde    f   13.0  nao possui   \n",
       "2     191  2016  dir  atcomp  diurno      3     tarde    f   15.0  nao possui   \n",
       "3     191  2016  dir  atcomp  diurno      3     tarde    m   11.0  nao possui   \n",
       "4     191  2016  dir  atcomp  diurno      3     tarde    m   11.0  nao possui   \n",
       "\n",
       "            raca  qtde   database  \n",
       "0          parda     2 2016-09-30  \n",
       "1  nao declarada     1 2016-09-30  \n",
       "2          parda     1 2016-09-30  \n",
       "3  nao declarada     1 2016-09-30  \n",
       "4          parda     1 2016-09-30  "
      ]
     },
     "execution_count": 334,
     "metadata": {},
     "output_type": "execute_result"
    }
   ],
   "source": [
    "df_estudantes_cleaned.head()"
   ]
  },
  {
   "cell_type": "code",
   "execution_count": 328,
   "metadata": {},
   "outputs": [],
   "source": [
    "duckdb_database = \"../my_database.duckdb\""
   ]
  },
  {
   "cell_type": "code",
   "execution_count": 329,
   "metadata": {},
   "outputs": [],
   "source": [
    "conn = duckdb.connect(duckdb_database)"
   ]
  },
  {
   "cell_type": "code",
   "execution_count": 330,
   "metadata": {},
   "outputs": [
    {
     "data": {
      "text/plain": [
       "<duckdb.duckdb.DuckDBPyConnection at 0x1b6abe921b0>"
      ]
     },
     "execution_count": 330,
     "metadata": {},
     "output_type": "execute_result"
    }
   ],
   "source": [
    "conn.execute(\"CREATE TABLE IF NOT EXISTS stg_escola AS SELECT * FROM  df_escolas_cleaned\")"
   ]
  },
  {
   "cell_type": "code",
   "execution_count": 331,
   "metadata": {},
   "outputs": [
    {
     "data": {
      "text/plain": [
       "<duckdb.duckdb.DuckDBPyConnection at 0x1b6abe921b0>"
      ]
     },
     "execution_count": 331,
     "metadata": {},
     "output_type": "execute_result"
    }
   ],
   "source": [
    "conn.execute(\"CREATE TABLE IF NOT EXISTS stg_estudante AS SELECT * FROM  df_estudantes_cleaned\")"
   ]
  },
  {
   "cell_type": "code",
   "execution_count": 332,
   "metadata": {},
   "outputs": [],
   "source": [
    "conn.close()"
   ]
  },
  {
   "cell_type": "code",
   "execution_count": null,
   "metadata": {},
   "outputs": [],
   "source": []
  }
 ],
 "metadata": {
  "kernelspec": {
   "display_name": "base",
   "language": "python",
   "name": "python3"
  },
  "language_info": {
   "codemirror_mode": {
    "name": "ipython",
    "version": 3
   },
   "file_extension": ".py",
   "mimetype": "text/x-python",
   "name": "python",
   "nbconvert_exporter": "python",
   "pygments_lexer": "ipython3",
   "version": "3.12.4"
  }
 },
 "nbformat": 4,
 "nbformat_minor": 2
}
