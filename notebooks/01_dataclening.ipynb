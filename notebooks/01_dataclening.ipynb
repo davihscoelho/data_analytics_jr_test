{
 "cells": [
  {
   "cell_type": "code",
   "execution_count": 4,
   "metadata": {},
   "outputs": [],
   "source": [
    "import pandas as pd\n",
    "import duckdb \n",
    "import sqlite3\n",
    "from datetime import datetime\n",
    "import numpy as np\n"
   ]
  },
  {
   "cell_type": "code",
   "execution_count": 2,
   "metadata": {},
   "outputs": [],
   "source": [
    "database_name =\"../test_analytics.db\"\n"
   ]
  },
  {
   "cell_type": "code",
   "execution_count": null,
   "metadata": {},
   "outputs": [],
   "source": [
    "def returning_df_from_all_tables(query):\n",
    "\ttry:\n",
    "\n",
    "\t\tconn = sqlite3.connect(database_name)\n",
    "\t\tcursor = conn.cursor()\n",
    "\n",
    "\t\tcursor.execute (query)\n",
    "\t\ttables = [table[0] for table in cursor.fetchall()]\n",
    "\n",
    "\t\tif not tables:\n",
    "\t\t\tprint (\"Not is possible\")\n",
    "\n",
    "\t\tunion_all_query = \" UNION ALL \".join(f\"SELECT * FROM \\\"{table}\\\"\" for table in tables)\n",
    "\t\t#cursor.execute(union_all_query)\n",
    "\n",
    "\t\t# rows = cursor.fetchall()\n",
    "\t\tdf = pd.read_sql_query(union_all_query, conn)\n",
    "\n",
    "\t\treturn df\n",
    "\n",
    "\texcept sqlite3.Error as e:\n",
    "\t\tprint(f\"SQLITE error: {e}\")\n",
    "\n",
    "\tfinally:\n",
    "\t\tif conn:\n",
    "\t\t\tconn.close()\n",
    "\n",
    "\n",
    "query =   \"\"\"\n",
    "  SELECT name FROM sqlite_master\n",
    "  WHERE type = 'table' AND  (name LIKE 'escolas%' OR name LIKE '%escolas%');\n",
    "  \"\"\"\n",
    "\n",
    "query2 = \"\"\"\n",
    "  SELECT name FROM sqlite_master\n",
    "  WHERE type = 'table' AND  (name LIKE 'idadeserie%' OR name LIKE '%idadeserie%');\n",
    "  \"\"\"\n",
    "\n",
    "df_escolas = returning_df_from_all_tables(query)\n",
    "\n",
    "df_estudantes = returning_df_from_all_tables(query2)"
   ]
  },
  {
   "cell_type": "code",
   "execution_count": 5,
   "metadata": {},
   "outputs": [],
   "source": [
    "duckdb_database = \"../my_database.duckdb\""
   ]
  },
  {
   "cell_type": "code",
   "execution_count": null,
   "metadata": {},
   "outputs": [],
   "source": [
    "conn = duckdb.connect(duckdb_database)"
   ]
  },
  {
   "cell_type": "code",
   "execution_count": null,
   "metadata": {},
   "outputs": [],
   "source": [
    "conn.execute(\"CREATE TABLE IF NOT EXISTS raw_escolas AS SELECT * FROM  df_escolas\")"
   ]
  },
  {
   "cell_type": "code",
   "execution_count": null,
   "metadata": {},
   "outputs": [],
   "source": [
    "conn.execute(\"CREATE TABLE IF NOT EXISTS raw_estudantes AS SELECT * FROM df_estudantes\")"
   ]
  },
  {
   "cell_type": "code",
   "execution_count": 9,
   "metadata": {},
   "outputs": [],
   "source": [
    "escola = conn.sql(\n",
    "  \"\"\"\n",
    "    SELECT DISTINCT\n",
    "      re.dre,\n",
    "      re.codesc,\n",
    "      re.tipoesc,\n",
    "      re.nomesc,\n",
    "      re.diretoria,\n",
    "      re.fx_etaria,\n",
    "      re.situacao,\n",
    "      re.database,\n",
    "      re.dt_criacao ,\n",
    "      re.dt_ini_conv ,\n",
    "      re.cep\n",
    "    FROM main.raw_escolas re\n",
    "    WHERE re.fx_etaria IS NOT NULL\n",
    "    ORDER BY re.codesc;\n",
    "  \"\"\"\n",
    "  )"
   ]
  },
  {
   "cell_type": "code",
   "execution_count": 10,
   "metadata": {},
   "outputs": [],
   "source": [
    "endereco = conn.sql(\n",
    "  \"\"\"\n",
    "    SELECT DISTINCT\n",
    "      re.endereco ,\n",
    "      re.bairro ,\n",
    "      re.distrito,\n",
    "      re.coddist,\n",
    "      re.cep,\n",
    "      re.latitude ,\n",
    "      re.longitude ,\n",
    "      \n",
    "    FROM main.raw_escolas re\n",
    "    WHERE re.fx_etaria IS NOT NULL\n",
    "    ORDER BY re.codesc;\n",
    "  \"\"\"\n",
    "  )"
   ]
  },
  {
   "cell_type": "code",
   "execution_count": 11,
   "metadata": {},
   "outputs": [],
   "source": [
    "estudantes = conn.sql(\n",
    "\n",
    "  \"\"\"\n",
    "    SELECT * FROM main.raw_estudantes\n",
    "  \n",
    "  \"\"\"\n",
    "\n",
    ")"
   ]
  },
  {
   "cell_type": "code",
   "execution_count": 12,
   "metadata": {},
   "outputs": [],
   "source": [
    "df = escola.to_df()"
   ]
  },
  {
   "cell_type": "code",
   "execution_count": 13,
   "metadata": {},
   "outputs": [],
   "source": [
    "df_endereco = endereco.to_df()"
   ]
  },
  {
   "cell_type": "code",
   "execution_count": 14,
   "metadata": {},
   "outputs": [],
   "source": [
    "df_estudantes = estudantes.to_df()"
   ]
  },
  {
   "cell_type": "code",
   "execution_count": 15,
   "metadata": {},
   "outputs": [
    {
     "name": "stdout",
     "output_type": "stream",
     "text": [
      "(2982929, 19)\n"
     ]
    }
   ],
   "source": [
    "print(df_estudantes.shape)"
   ]
  },
  {
   "cell_type": "markdown",
   "metadata": {},
   "source": [
    "# Processing and EDA df escolas"
   ]
  },
  {
   "cell_type": "code",
   "execution_count": 16,
   "metadata": {},
   "outputs": [],
   "source": [
    "categorical_columns = df.select_dtypes(include=['object', 'category']).columns\n",
    "date_columns = [\"dt_criacao\",\"dt_ini_func\", \"dt_ini_conv\",\"dt_autoriza\",\"database\"]"
   ]
  },
  {
   "cell_type": "code",
   "execution_count": 17,
   "metadata": {},
   "outputs": [],
   "source": [
    "categorical_columns = categorical_columns.difference(date_columns)"
   ]
  },
  {
   "cell_type": "code",
   "execution_count": 18,
   "metadata": {},
   "outputs": [],
   "source": [
    "# Upper All columns\n",
    "df[categorical_columns] = df[categorical_columns].apply(lambda x: x.str.upper())\n"
   ]
  },
  {
   "cell_type": "code",
   "execution_count": 19,
   "metadata": {},
   "outputs": [],
   "source": [
    "# Change from ',' to '.' and strip for nomeesc\n",
    "df[\"nomesc\"] = df[\"nomesc\"].str.replace(\",\", \"\")\n",
    "df[\"nomesc\"] = df[\"nomesc\"].str.strip()"
   ]
  },
  {
   "cell_type": "code",
   "execution_count": 20,
   "metadata": {},
   "outputs": [
    {
     "data": {
      "text/html": [
       "<div>\n",
       "<style scoped>\n",
       "    .dataframe tbody tr th:only-of-type {\n",
       "        vertical-align: middle;\n",
       "    }\n",
       "\n",
       "    .dataframe tbody tr th {\n",
       "        vertical-align: top;\n",
       "    }\n",
       "\n",
       "    .dataframe thead th {\n",
       "        text-align: right;\n",
       "    }\n",
       "</style>\n",
       "<table border=\"1\" class=\"dataframe\">\n",
       "  <thead>\n",
       "    <tr style=\"text-align: right;\">\n",
       "      <th></th>\n",
       "      <th>dre</th>\n",
       "      <th>codesc</th>\n",
       "      <th>tipoesc</th>\n",
       "      <th>nomesc</th>\n",
       "      <th>diretoria</th>\n",
       "      <th>fx_etaria</th>\n",
       "      <th>situacao</th>\n",
       "      <th>database</th>\n",
       "      <th>dt_criacao</th>\n",
       "      <th>dt_ini_conv</th>\n",
       "      <th>cep</th>\n",
       "    </tr>\n",
       "  </thead>\n",
       "  <tbody>\n",
       "    <tr>\n",
       "      <th>0</th>\n",
       "      <td>PJ</td>\n",
       "      <td>30993</td>\n",
       "      <td>CR.P.CONV</td>\n",
       "      <td>VILA SULINA</td>\n",
       "      <td>PIRITUBA</td>\n",
       "      <td>00 A 03</td>\n",
       "      <td>ATIVA</td>\n",
       "      <td>31/12/2020 00:00</td>\n",
       "      <td>07/03/2020 00:00</td>\n",
       "      <td>None</td>\n",
       "      <td>5264050</td>\n",
       "    </tr>\n",
       "    <tr>\n",
       "      <th>1</th>\n",
       "      <td>PJ</td>\n",
       "      <td>200204</td>\n",
       "      <td>CECI</td>\n",
       "      <td>JARAGUA</td>\n",
       "      <td>PIRITUBA</td>\n",
       "      <td>ZERO A 6A E 11M</td>\n",
       "      <td>ATIVA</td>\n",
       "      <td>27/12/2012</td>\n",
       "      <td>19/02/2004</td>\n",
       "      <td>23/12/2004</td>\n",
       "      <td>5177100</td>\n",
       "    </tr>\n",
       "    <tr>\n",
       "      <th>2</th>\n",
       "      <td>PJ</td>\n",
       "      <td>200204</td>\n",
       "      <td>CECI</td>\n",
       "      <td>JARAGUA</td>\n",
       "      <td>PIRITUBA</td>\n",
       "      <td>ZERO A 5 A</td>\n",
       "      <td>ATIVA</td>\n",
       "      <td>30/11/2013</td>\n",
       "      <td>19/02/2004</td>\n",
       "      <td>23/12/2004</td>\n",
       "      <td>5177100</td>\n",
       "    </tr>\n",
       "    <tr>\n",
       "      <th>3</th>\n",
       "      <td>PJ</td>\n",
       "      <td>200204</td>\n",
       "      <td>CECI</td>\n",
       "      <td>JARAGUA</td>\n",
       "      <td>PIRITUBA</td>\n",
       "      <td>ZERO A 6A E 11M</td>\n",
       "      <td>ATIVA</td>\n",
       "      <td>31/12/2010</td>\n",
       "      <td>19/02/2004</td>\n",
       "      <td>23/12/2004</td>\n",
       "      <td>5177100</td>\n",
       "    </tr>\n",
       "    <tr>\n",
       "      <th>4</th>\n",
       "      <td>PJ</td>\n",
       "      <td>200204</td>\n",
       "      <td>CECI</td>\n",
       "      <td>JARAGUA</td>\n",
       "      <td>PIRITUBA</td>\n",
       "      <td>ZERO A 6A E 11M</td>\n",
       "      <td>ATIVA</td>\n",
       "      <td>31/12/2011</td>\n",
       "      <td>19/02/2004</td>\n",
       "      <td>23/12/2004</td>\n",
       "      <td>5177100</td>\n",
       "    </tr>\n",
       "  </tbody>\n",
       "</table>\n",
       "</div>"
      ],
      "text/plain": [
       "  dre  codesc     tipoesc       nomesc diretoria        fx_etaria situacao  \\\n",
       "0  PJ   30993   CR.P.CONV  VILA SULINA  PIRITUBA          00 A 03    ATIVA   \n",
       "1  PJ  200204        CECI      JARAGUA  PIRITUBA  ZERO A 6A E 11M    ATIVA   \n",
       "2  PJ  200204  CECI            JARAGUA  PIRITUBA       ZERO A 5 A    ATIVA   \n",
       "3  PJ  200204        CECI      JARAGUA  PIRITUBA  ZERO A 6A E 11M    ATIVA   \n",
       "4  PJ  200204        CECI      JARAGUA  PIRITUBA  ZERO A 6A E 11M    ATIVA   \n",
       "\n",
       "           database        dt_criacao dt_ini_conv      cep  \n",
       "0  31/12/2020 00:00  07/03/2020 00:00        None  5264050  \n",
       "1        27/12/2012        19/02/2004  23/12/2004  5177100  \n",
       "2        30/11/2013        19/02/2004  23/12/2004  5177100  \n",
       "3        31/12/2010        19/02/2004  23/12/2004  5177100  \n",
       "4        31/12/2011        19/02/2004  23/12/2004  5177100  "
      ]
     },
     "execution_count": 20,
     "metadata": {},
     "output_type": "execute_result"
    }
   ],
   "source": [
    "df.head()"
   ]
  },
  {
   "cell_type": "code",
   "execution_count": 21,
   "metadata": {},
   "outputs": [],
   "source": [
    "month_map = {\n",
    "    \"jan\": \"01\", \"fev\": \"02\", \"mar\": \"03\", \"abr\": \"04\",\n",
    "    \"mai\": \"05\", \"jun\": \"06\", \"jul\": \"07\", \"ago\": \"08\",\n",
    "    \"set\": \"09\", \"out\": \"10\", \"nov\": \"11\", \"dez\": \"12\"\n",
    "}"
   ]
  },
  {
   "cell_type": "code",
   "execution_count": 22,
   "metadata": {},
   "outputs": [],
   "source": [
    "def translate_brazilian_month(date_str):\n",
    "    \"\"\"Replace Brazilian month abbreviations with numeric equivalents.\"\"\"\n",
    "    if not isinstance(date_str, str):  # Check if the value is a string\n",
    "        return date_str  # Return the original value (e.g., None)\n",
    "    \n",
    "    for pt_month, num_month in month_map.items():\n",
    "        if pt_month in date_str:\n",
    "            return date_str.replace(pt_month, num_month)\n",
    "    return date_str\n"
   ]
  },
  {
   "cell_type": "code",
   "execution_count": 23,
   "metadata": {},
   "outputs": [],
   "source": [
    "def parse_date(date_str):\n",
    "      \"\"\"Try to parse the date string into a standardized format.\"\"\"\n",
    "      date_str = date_str.strip().lower()\n",
    "      formats = [\n",
    "          \"%d/%m/%Y\",    # DD/MM/YYYY\n",
    "          \"%d/%m/%y\",    # DD/MM/YY\n",
    "          \"%d/%b/%y\",    # DD/Mon/YY (abbreviated month)\n",
    "          \"%d/%m/%Y %H:%M\"  # DD/MM/YYYY HH:MM\n",
    "      ]\n",
    "      for fmt in formats:\n",
    "          try:\n",
    "              return datetime.strptime(date_str, fmt).date()\n",
    "          except ValueError:\n",
    "                continue\n",
    "      return None  # Return None if parsing fails\n"
   ]
  },
  {
   "cell_type": "code",
   "execution_count": 24,
   "metadata": {},
   "outputs": [],
   "source": [
    "df = df.dropna(subset=['database', \"dt_criacao\"])\n",
    "df[\"dt_ini_conv\"] = df[\"dt_ini_conv\"].fillna(\"01/01/2099\")"
   ]
  },
  {
   "cell_type": "code",
   "execution_count": 25,
   "metadata": {},
   "outputs": [],
   "source": [
    "data_cleaned = df.copy()"
   ]
  },
  {
   "cell_type": "code",
   "execution_count": 26,
   "metadata": {},
   "outputs": [],
   "source": [
    "data_cleaned['dt_criacao'] = (\n",
    "    data_cleaned['dt_criacao']\n",
    "    .apply(translate_brazilian_month)  # Replace Brazilian months\n",
    "    .apply(parse_date)  # Parse the dates\n",
    ")\n",
    "\n",
    "data_cleaned['database'] = (\n",
    "    data_cleaned['database']\n",
    "    .apply(translate_brazilian_month)  # Replace Brazilian months\n",
    "    .apply(parse_date)  # Parse the dates\n",
    ")\n",
    "\n",
    "data_cleaned['dt_ini_conv'] = (\n",
    "    data_cleaned['dt_ini_conv']\n",
    "    .apply(translate_brazilian_month)  # Replace Brazilian months\n",
    "    .apply(parse_date)  # Parse the dates\n",
    ")"
   ]
  },
  {
   "cell_type": "code",
   "execution_count": 27,
   "metadata": {},
   "outputs": [],
   "source": [
    "#data_cleaned[\"dt_criacao\"] = pd.to_datetime(data_cleaned[\"dt_criacao\"], format=\"%Y-%m\")\n",
    "data_cleaned['database'] = pd.to_datetime(data_cleaned['database']).dt.to_period('M').astype(str)\n",
    "data_cleaned['dt_criacao'] = pd.to_datetime(data_cleaned['dt_criacao']).dt.to_period('M').astype(str)\n",
    "data_cleaned['dt_ini_conv'] = pd.to_datetime(data_cleaned['dt_ini_conv']).dt.to_period('M').astype(str)\n"
   ]
  },
  {
   "cell_type": "code",
   "execution_count": 28,
   "metadata": {},
   "outputs": [],
   "source": [
    "#df = df.drop_duplicates(subset=['codesc','nomesc','dt_criacao'])\n",
    "data_cleaned = data_cleaned.drop_duplicates(subset=['codesc','nomesc','dt_criacao'])"
   ]
  },
  {
   "cell_type": "markdown",
   "metadata": {},
   "source": [
    "# Processing and EDA endereco"
   ]
  },
  {
   "cell_type": "code",
   "execution_count": 33,
   "metadata": {},
   "outputs": [],
   "source": [
    "aux = df_endereco.drop_duplicates(subset=[\"cep\",\"latitude\",\"longitude\"])"
   ]
  },
  {
   "cell_type": "code",
   "execution_count": 34,
   "metadata": {},
   "outputs": [],
   "source": [
    "mask = aux[\"cep\"] == 2860001"
   ]
  },
  {
   "cell_type": "code",
   "execution_count": 35,
   "metadata": {},
   "outputs": [
    {
     "data": {
      "text/html": [
       "<div>\n",
       "<style scoped>\n",
       "    .dataframe tbody tr th:only-of-type {\n",
       "        vertical-align: middle;\n",
       "    }\n",
       "\n",
       "    .dataframe tbody tr th {\n",
       "        vertical-align: top;\n",
       "    }\n",
       "\n",
       "    .dataframe thead th {\n",
       "        text-align: right;\n",
       "    }\n",
       "</style>\n",
       "<table border=\"1\" class=\"dataframe\">\n",
       "  <thead>\n",
       "    <tr style=\"text-align: right;\">\n",
       "      <th></th>\n",
       "      <th>endereco</th>\n",
       "      <th>bairro</th>\n",
       "      <th>distrito</th>\n",
       "      <th>coddist</th>\n",
       "      <th>cep</th>\n",
       "      <th>latitude</th>\n",
       "      <th>longitude</th>\n",
       "    </tr>\n",
       "  </thead>\n",
       "  <tbody>\n",
       "    <tr>\n",
       "      <th>964</th>\n",
       "      <td>AVENIDA DEPUTADO CANTÍDIO SAMPAIO</td>\n",
       "      <td>VILA SOUZA</td>\n",
       "      <td>BRASILANDIA</td>\n",
       "      <td>11.0</td>\n",
       "      <td>2860001</td>\n",
       "      <td>-46688471.0</td>\n",
       "      <td>-23459785.0</td>\n",
       "    </tr>\n",
       "    <tr>\n",
       "      <th>965</th>\n",
       "      <td>AVENIDA DEPUTADO CANTÍDIO SAMPAIO</td>\n",
       "      <td>VILA SOUZA</td>\n",
       "      <td>BRASILANDIA</td>\n",
       "      <td>11.0</td>\n",
       "      <td>2860001</td>\n",
       "      <td>-23459785</td>\n",
       "      <td>-46688471</td>\n",
       "    </tr>\n",
       "    <tr>\n",
       "      <th>966</th>\n",
       "      <td>AVENIDA DEPUTADO CANTÍDIO SAMPAIO</td>\n",
       "      <td>VILA SOUZA</td>\n",
       "      <td>BRASILANDIA</td>\n",
       "      <td>11.0</td>\n",
       "      <td>2860001</td>\n",
       "      <td>-23459785.0</td>\n",
       "      <td>-46688471.0</td>\n",
       "    </tr>\n",
       "    <tr>\n",
       "      <th>967</th>\n",
       "      <td>Avenida DEPUTADO CANTÃDIO SAMPAIO</td>\n",
       "      <td>VILA SOUZA</td>\n",
       "      <td>BRASILANDIA</td>\n",
       "      <td>11.0</td>\n",
       "      <td>2860001</td>\n",
       "      <td>-23.459.785</td>\n",
       "      <td>-46.688.471</td>\n",
       "    </tr>\n",
       "    <tr>\n",
       "      <th>968</th>\n",
       "      <td>DEPUTADO CANTÍDIO SAMPAIO</td>\n",
       "      <td>VILA SOUZA</td>\n",
       "      <td>BRASILANDIA</td>\n",
       "      <td>11.0</td>\n",
       "      <td>2860001</td>\n",
       "      <td>-23451864</td>\n",
       "      <td>-46692602</td>\n",
       "    </tr>\n",
       "    <tr>\n",
       "      <th>969</th>\n",
       "      <td>AVENIDA DEPUTADO CANTÍDIO SAMPAIO</td>\n",
       "      <td>VILA SOUZA</td>\n",
       "      <td>BRASILANDIA</td>\n",
       "      <td>11.0</td>\n",
       "      <td>2860001</td>\n",
       "      <td>-23458827</td>\n",
       "      <td>-46686326</td>\n",
       "    </tr>\n",
       "    <tr>\n",
       "      <th>1396</th>\n",
       "      <td>AVENIDA DEPUTADO CANTÍDIO SAMPAIO</td>\n",
       "      <td>VILA SOUZA</td>\n",
       "      <td>JARAGUA</td>\n",
       "      <td>42.0</td>\n",
       "      <td>2860001</td>\n",
       "      <td>-23435657</td>\n",
       "      <td>-46716572</td>\n",
       "    </tr>\n",
       "    <tr>\n",
       "      <th>1397</th>\n",
       "      <td>AVENIDA DEPUTADO CANTÍDIO SAMPAIO</td>\n",
       "      <td>VILA SOUZA</td>\n",
       "      <td>JARAGUA</td>\n",
       "      <td>42.0</td>\n",
       "      <td>2860001</td>\n",
       "      <td>-23435682</td>\n",
       "      <td>-46715909</td>\n",
       "    </tr>\n",
       "    <tr>\n",
       "      <th>1398</th>\n",
       "      <td>Avenida DEPUTADO CANTÃDIO SAMPAIO</td>\n",
       "      <td>VILA SOUZA</td>\n",
       "      <td>JARAGUA</td>\n",
       "      <td>42.0</td>\n",
       "      <td>2860001</td>\n",
       "      <td>-23.435.682</td>\n",
       "      <td>-46.715.909</td>\n",
       "    </tr>\n",
       "    <tr>\n",
       "      <th>1399</th>\n",
       "      <td>AVENIDA DEPUTADO CANTÍDIO SAMPAIO</td>\n",
       "      <td>VILA SOUZA</td>\n",
       "      <td>JARAGUA</td>\n",
       "      <td>42.0</td>\n",
       "      <td>2860001</td>\n",
       "      <td>-23435682.0</td>\n",
       "      <td>-46715909.0</td>\n",
       "    </tr>\n",
       "    <tr>\n",
       "      <th>1401</th>\n",
       "      <td>AVENIDA DEPUTADO CANTÍDIO SAMPAIO</td>\n",
       "      <td>VILA SOUZA</td>\n",
       "      <td>JARAGUA</td>\n",
       "      <td>42.0</td>\n",
       "      <td>2860001</td>\n",
       "      <td>-46715909.0</td>\n",
       "      <td>-23435682.0</td>\n",
       "    </tr>\n",
       "    <tr>\n",
       "      <th>1402</th>\n",
       "      <td>DEPUTADO CANTÍDIO SAMPAIO</td>\n",
       "      <td>VILA SOUZA</td>\n",
       "      <td>JARAGUA</td>\n",
       "      <td>42.0</td>\n",
       "      <td>2860001</td>\n",
       "      <td>-23433290</td>\n",
       "      <td>-46713313</td>\n",
       "    </tr>\n",
       "    <tr>\n",
       "      <th>2925</th>\n",
       "      <td>AVENIDA DEPUTADO CANTÍDIO SAMPAIO</td>\n",
       "      <td>VILA SOUZA</td>\n",
       "      <td>BRASILANDIA</td>\n",
       "      <td>11.0</td>\n",
       "      <td>2860001</td>\n",
       "      <td>-23470740</td>\n",
       "      <td>-46675928</td>\n",
       "    </tr>\n",
       "    <tr>\n",
       "      <th>2926</th>\n",
       "      <td>Avenida DEPUTADO CANTÃÂDIO SAMPAIO</td>\n",
       "      <td>VILA SOUZA</td>\n",
       "      <td>BRASILANDIA</td>\n",
       "      <td>11.0</td>\n",
       "      <td>2860001</td>\n",
       "      <td>-2.347.074</td>\n",
       "      <td>-46.675.928</td>\n",
       "    </tr>\n",
       "    <tr>\n",
       "      <th>2927</th>\n",
       "      <td>AVENIDA DEPUTADO CANTÍDIO SAMPAIO</td>\n",
       "      <td>VILA SOUZA</td>\n",
       "      <td>BRASILANDIA</td>\n",
       "      <td>11.0</td>\n",
       "      <td>2860001</td>\n",
       "      <td>-23470740.0</td>\n",
       "      <td>-46675928.0</td>\n",
       "    </tr>\n",
       "    <tr>\n",
       "      <th>2929</th>\n",
       "      <td>AVENIDA DEPUTADO CANTÍDIO SAMPAIO</td>\n",
       "      <td>VILA SOUZA</td>\n",
       "      <td>BRASILANDIA</td>\n",
       "      <td>11.0</td>\n",
       "      <td>2860001</td>\n",
       "      <td>-46675928.0</td>\n",
       "      <td>-23470740.0</td>\n",
       "    </tr>\n",
       "    <tr>\n",
       "      <th>3287</th>\n",
       "      <td>AVENIDA DEPUTADO CANTÍDIO SAMPAIO</td>\n",
       "      <td>VILA SOUZA</td>\n",
       "      <td>BRASILANDIA</td>\n",
       "      <td>11.0</td>\n",
       "      <td>2860001</td>\n",
       "      <td>-23455191</td>\n",
       "      <td>-46693760</td>\n",
       "    </tr>\n",
       "    <tr>\n",
       "      <th>3288</th>\n",
       "      <td>AVENIDA DEPUTADO CANTÍDIO SAMPAIO</td>\n",
       "      <td>VILA SOUZA</td>\n",
       "      <td>BRASILANDIA</td>\n",
       "      <td>11.0</td>\n",
       "      <td>2860001</td>\n",
       "      <td>-46693760.0</td>\n",
       "      <td>-23455191.0</td>\n",
       "    </tr>\n",
       "    <tr>\n",
       "      <th>3291</th>\n",
       "      <td>AVENIDA DEPUTADO CANTÍDIO SAMPAIO</td>\n",
       "      <td>VILA SOUZA</td>\n",
       "      <td>BRASILANDIA</td>\n",
       "      <td>11.0</td>\n",
       "      <td>2860001</td>\n",
       "      <td>-23455191</td>\n",
       "      <td>-46693790</td>\n",
       "    </tr>\n",
       "    <tr>\n",
       "      <th>3292</th>\n",
       "      <td>AVENIDA DEPUTADO CANTÍDIO SAMPAIO</td>\n",
       "      <td>VILA SOUZA</td>\n",
       "      <td>BRASILANDIA</td>\n",
       "      <td>11.0</td>\n",
       "      <td>2860001</td>\n",
       "      <td>-23455191.0</td>\n",
       "      <td>-46693760.0</td>\n",
       "    </tr>\n",
       "    <tr>\n",
       "      <th>3756</th>\n",
       "      <td>AVENIDA DEPUTADO CANTÍDIO SAMPAIO</td>\n",
       "      <td>VILA SOUZA</td>\n",
       "      <td>BRASILANDIA</td>\n",
       "      <td>11.0</td>\n",
       "      <td>2860001</td>\n",
       "      <td>-23464388.0</td>\n",
       "      <td>-46679656.0</td>\n",
       "    </tr>\n",
       "    <tr>\n",
       "      <th>3758</th>\n",
       "      <td>AVENIDA DEPUTADO CANTÍDIO SAMPAIO</td>\n",
       "      <td>VILA SOUZA</td>\n",
       "      <td>BRASILANDIA</td>\n",
       "      <td>11.0</td>\n",
       "      <td>2860001</td>\n",
       "      <td>-46679656.0</td>\n",
       "      <td>-23464388.0</td>\n",
       "    </tr>\n",
       "    <tr>\n",
       "      <th>3760</th>\n",
       "      <td>Avenida DEPUTADO CANTÃÂDIO SAMPAIO</td>\n",
       "      <td>VILA SOUZA</td>\n",
       "      <td>BRASILANDIA</td>\n",
       "      <td>11.0</td>\n",
       "      <td>2860001</td>\n",
       "      <td>-23.464.388</td>\n",
       "      <td>-46.679.656</td>\n",
       "    </tr>\n",
       "    <tr>\n",
       "      <th>3762</th>\n",
       "      <td>AVENIDA DEPUTADO CANTÍDIO SAMPAIO</td>\n",
       "      <td>VILA SOUZA</td>\n",
       "      <td>BRASILANDIA</td>\n",
       "      <td>11.0</td>\n",
       "      <td>2860001</td>\n",
       "      <td>-23464388</td>\n",
       "      <td>-46679656</td>\n",
       "    </tr>\n",
       "    <tr>\n",
       "      <th>7662</th>\n",
       "      <td>AVENIDA DEPUTADO CANTÍDIO SAMPAIO</td>\n",
       "      <td>VILA SOUZA</td>\n",
       "      <td>BRASILANDIA</td>\n",
       "      <td>11.0</td>\n",
       "      <td>2860001</td>\n",
       "      <td>-23453565</td>\n",
       "      <td>-46696573</td>\n",
       "    </tr>\n",
       "    <tr>\n",
       "      <th>7665</th>\n",
       "      <td>Avenida DEPUTADO CANTÃDIO SAMPAIO</td>\n",
       "      <td>VILA SOUZA</td>\n",
       "      <td>BRASILANDIA</td>\n",
       "      <td>11.0</td>\n",
       "      <td>2860001</td>\n",
       "      <td>-23.453.565</td>\n",
       "      <td>-46.696.573</td>\n",
       "    </tr>\n",
       "    <tr>\n",
       "      <th>9699</th>\n",
       "      <td>Avenida DEPUTADO CANTÃDIO SAMPAIO</td>\n",
       "      <td>VILA SOUZA</td>\n",
       "      <td>BRASILANDIA</td>\n",
       "      <td>11.0</td>\n",
       "      <td>2860001</td>\n",
       "      <td>-23.473.061</td>\n",
       "      <td>-46.672.184</td>\n",
       "    </tr>\n",
       "    <tr>\n",
       "      <th>9701</th>\n",
       "      <td>AVENIDA DEPUTADO CANTÍDIO SAMPAIO</td>\n",
       "      <td>VILA SOUZA</td>\n",
       "      <td>BRASILANDIA</td>\n",
       "      <td>11.0</td>\n",
       "      <td>2860001</td>\n",
       "      <td>-23473061</td>\n",
       "      <td>-46672184</td>\n",
       "    </tr>\n",
       "  </tbody>\n",
       "</table>\n",
       "</div>"
      ],
      "text/plain": [
       "                                  endereco      bairro     distrito  coddist  \\\n",
       "964      AVENIDA DEPUTADO CANTÍDIO SAMPAIO  VILA SOUZA  BRASILANDIA     11.0   \n",
       "965      AVENIDA DEPUTADO CANTÍDIO SAMPAIO  VILA SOUZA  BRASILANDIA     11.0   \n",
       "966      AVENIDA DEPUTADO CANTÍDIO SAMPAIO  VILA SOUZA  BRASILANDIA     11.0   \n",
       "967     Avenida DEPUTADO CANTÃDIO SAMPAIO  VILA SOUZA  BRASILANDIA     11.0   \n",
       "968              DEPUTADO CANTÍDIO SAMPAIO  VILA SOUZA  BRASILANDIA     11.0   \n",
       "969      AVENIDA DEPUTADO CANTÍDIO SAMPAIO  VILA SOUZA  BRASILANDIA     11.0   \n",
       "1396     AVENIDA DEPUTADO CANTÍDIO SAMPAIO  VILA SOUZA      JARAGUA     42.0   \n",
       "1397     AVENIDA DEPUTADO CANTÍDIO SAMPAIO  VILA SOUZA      JARAGUA     42.0   \n",
       "1398    Avenida DEPUTADO CANTÃDIO SAMPAIO  VILA SOUZA      JARAGUA     42.0   \n",
       "1399     AVENIDA DEPUTADO CANTÍDIO SAMPAIO  VILA SOUZA      JARAGUA     42.0   \n",
       "1401     AVENIDA DEPUTADO CANTÍDIO SAMPAIO  VILA SOUZA      JARAGUA     42.0   \n",
       "1402             DEPUTADO CANTÍDIO SAMPAIO  VILA SOUZA      JARAGUA     42.0   \n",
       "2925     AVENIDA DEPUTADO CANTÍDIO SAMPAIO  VILA SOUZA  BRASILANDIA     11.0   \n",
       "2926  Avenida DEPUTADO CANTÃÂDIO SAMPAIO  VILA SOUZA  BRASILANDIA     11.0   \n",
       "2927     AVENIDA DEPUTADO CANTÍDIO SAMPAIO  VILA SOUZA  BRASILANDIA     11.0   \n",
       "2929     AVENIDA DEPUTADO CANTÍDIO SAMPAIO  VILA SOUZA  BRASILANDIA     11.0   \n",
       "3287     AVENIDA DEPUTADO CANTÍDIO SAMPAIO  VILA SOUZA  BRASILANDIA     11.0   \n",
       "3288     AVENIDA DEPUTADO CANTÍDIO SAMPAIO  VILA SOUZA  BRASILANDIA     11.0   \n",
       "3291     AVENIDA DEPUTADO CANTÍDIO SAMPAIO  VILA SOUZA  BRASILANDIA     11.0   \n",
       "3292     AVENIDA DEPUTADO CANTÍDIO SAMPAIO  VILA SOUZA  BRASILANDIA     11.0   \n",
       "3756     AVENIDA DEPUTADO CANTÍDIO SAMPAIO  VILA SOUZA  BRASILANDIA     11.0   \n",
       "3758     AVENIDA DEPUTADO CANTÍDIO SAMPAIO  VILA SOUZA  BRASILANDIA     11.0   \n",
       "3760  Avenida DEPUTADO CANTÃÂDIO SAMPAIO  VILA SOUZA  BRASILANDIA     11.0   \n",
       "3762     AVENIDA DEPUTADO CANTÍDIO SAMPAIO  VILA SOUZA  BRASILANDIA     11.0   \n",
       "7662     AVENIDA DEPUTADO CANTÍDIO SAMPAIO  VILA SOUZA  BRASILANDIA     11.0   \n",
       "7665    Avenida DEPUTADO CANTÃDIO SAMPAIO  VILA SOUZA  BRASILANDIA     11.0   \n",
       "9699    Avenida DEPUTADO CANTÃDIO SAMPAIO  VILA SOUZA  BRASILANDIA     11.0   \n",
       "9701     AVENIDA DEPUTADO CANTÍDIO SAMPAIO  VILA SOUZA  BRASILANDIA     11.0   \n",
       "\n",
       "          cep     latitude    longitude  \n",
       "964   2860001  -46688471.0  -23459785.0  \n",
       "965   2860001    -23459785    -46688471  \n",
       "966   2860001  -23459785.0  -46688471.0  \n",
       "967   2860001  -23.459.785  -46.688.471  \n",
       "968   2860001    -23451864    -46692602  \n",
       "969   2860001    -23458827    -46686326  \n",
       "1396  2860001    -23435657    -46716572  \n",
       "1397  2860001    -23435682    -46715909  \n",
       "1398  2860001  -23.435.682  -46.715.909  \n",
       "1399  2860001  -23435682.0  -46715909.0  \n",
       "1401  2860001  -46715909.0  -23435682.0  \n",
       "1402  2860001    -23433290    -46713313  \n",
       "2925  2860001    -23470740    -46675928  \n",
       "2926  2860001   -2.347.074  -46.675.928  \n",
       "2927  2860001  -23470740.0  -46675928.0  \n",
       "2929  2860001  -46675928.0  -23470740.0  \n",
       "3287  2860001    -23455191    -46693760  \n",
       "3288  2860001  -46693760.0  -23455191.0  \n",
       "3291  2860001    -23455191    -46693790  \n",
       "3292  2860001  -23455191.0  -46693760.0  \n",
       "3756  2860001  -23464388.0  -46679656.0  \n",
       "3758  2860001  -46679656.0  -23464388.0  \n",
       "3760  2860001  -23.464.388  -46.679.656  \n",
       "3762  2860001    -23464388    -46679656  \n",
       "7662  2860001    -23453565    -46696573  \n",
       "7665  2860001  -23.453.565  -46.696.573  \n",
       "9699  2860001  -23.473.061  -46.672.184  \n",
       "9701  2860001    -23473061    -46672184  "
      ]
     },
     "execution_count": 35,
     "metadata": {},
     "output_type": "execute_result"
    }
   ],
   "source": [
    "aux[mask]"
   ]
  },
  {
   "cell_type": "code",
   "execution_count": 36,
   "metadata": {},
   "outputs": [],
   "source": [
    "def corrigir_coordenadas(df):\n",
    "    for index, row in df.iterrows():\n",
    "        try:\n",
    "            lat = float(str(row['latitude']).replace('.', '').replace(',', '.'))\n",
    "            lon = float(str(row['longitude']).replace('.', '').replace(',', '.'))\n",
    "\n",
    "            if abs(lat) > 90 or abs(lon) > 180:\n",
    "                lat, lon = lon, lat\n",
    "\n",
    "            df.loc[index, 'latitude'] = round(lat, 6)\n",
    "            df.loc[index, 'longitude'] = round(lon, 6)\n",
    "\n",
    "        except (ValueError, TypeError):\n",
    "            print(f\"Erro na linha {index}: Latitude: {row['latitude']}, Longitude: {row['longitude']}\")\n",
    "            df.loc[index, 'latitude'] = np.nan\n",
    "            df.loc[index, 'longitude'] = np.nan\n",
    "\n",
    "    return df\n",
    "\n",
    "# df = corrigir_coordenadas(df)\n",
    "# print(df[['latitude', 'longitude']].drop_duplicates())"
   ]
  },
  {
   "cell_type": "code",
   "execution_count": 37,
   "metadata": {},
   "outputs": [
    {
     "name": "stdout",
     "output_type": "stream",
     "text": [
      "(11864, 7)\n"
     ]
    }
   ],
   "source": [
    "aux = aux.dropna(subset=['latitude','longitude'])\n",
    "print(aux.shape)"
   ]
  },
  {
   "cell_type": "code",
   "execution_count": 38,
   "metadata": {},
   "outputs": [
    {
     "data": {
      "text/html": [
       "<div>\n",
       "<style scoped>\n",
       "    .dataframe tbody tr th:only-of-type {\n",
       "        vertical-align: middle;\n",
       "    }\n",
       "\n",
       "    .dataframe tbody tr th {\n",
       "        vertical-align: top;\n",
       "    }\n",
       "\n",
       "    .dataframe thead th {\n",
       "        text-align: right;\n",
       "    }\n",
       "</style>\n",
       "<table border=\"1\" class=\"dataframe\">\n",
       "  <thead>\n",
       "    <tr style=\"text-align: right;\">\n",
       "      <th></th>\n",
       "      <th>endereco</th>\n",
       "      <th>bairro</th>\n",
       "      <th>distrito</th>\n",
       "      <th>coddist</th>\n",
       "      <th>cep</th>\n",
       "      <th>latitude</th>\n",
       "      <th>longitude</th>\n",
       "    </tr>\n",
       "  </thead>\n",
       "  <tbody>\n",
       "    <tr>\n",
       "      <th>991</th>\n",
       "      <td>Avenida PERI RONCHETTI</td>\n",
       "      <td>JARDIM PERI</td>\n",
       "      <td>CACHOEIRINHA</td>\n",
       "      <td>13.0</td>\n",
       "      <td>2633000</td>\n",
       "      <td>#CAMPO!</td>\n",
       "      <td>-46.648.435</td>\n",
       "    </tr>\n",
       "    <tr>\n",
       "      <th>2004</th>\n",
       "      <td>PEDRO VOSS</td>\n",
       "      <td>VILA CARRÃO</td>\n",
       "      <td>CARRAO</td>\n",
       "      <td>20.0</td>\n",
       "      <td>3437000</td>\n",
       "      <td>-140000000</td>\n",
       "      <td>-46531496</td>\n",
       "    </tr>\n",
       "    <tr>\n",
       "      <th>5564</th>\n",
       "      <td>Rua PRESIDENTE VARGAS</td>\n",
       "      <td>VILA CAIÃÅ¡BA</td>\n",
       "      <td>PERUS</td>\n",
       "      <td>61.0</td>\n",
       "      <td>5207000</td>\n",
       "      <td>-2.340.161</td>\n",
       "      <td>-46.748.203</td>\n",
       "    </tr>\n",
       "    <tr>\n",
       "      <th>8794</th>\n",
       "      <td>Rua TABULEIROS DE VALENCA</td>\n",
       "      <td>VILA INÃCIO</td>\n",
       "      <td>PERUS</td>\n",
       "      <td>61.0</td>\n",
       "      <td>5206170</td>\n",
       "      <td>-2.340.424</td>\n",
       "      <td>-46.765.869</td>\n",
       "    </tr>\n",
       "    <tr>\n",
       "      <th>8903</th>\n",
       "      <td>Rua MOGEIRO</td>\n",
       "      <td>VILA PERUS</td>\n",
       "      <td>PERUS</td>\n",
       "      <td>61.0</td>\n",
       "      <td>5208230</td>\n",
       "      <td>-2.340.555</td>\n",
       "      <td>-46.759.129</td>\n",
       "    </tr>\n",
       "    <tr>\n",
       "      <th>11105</th>\n",
       "      <td>Rua TANAGRA VIOLÃÂCEA</td>\n",
       "      <td>JARDIM RODRIGO</td>\n",
       "      <td>JARAGUA</td>\n",
       "      <td>42.0</td>\n",
       "      <td>2990350</td>\n",
       "      <td>-2.342.889</td>\n",
       "      <td>-4.672.868</td>\n",
       "    </tr>\n",
       "    <tr>\n",
       "      <th>8656</th>\n",
       "      <td>Rua LÃÂBERO TEIXEIRA BRAGA</td>\n",
       "      <td>VILA AURORA</td>\n",
       "      <td>JARAGUA</td>\n",
       "      <td>42.0</td>\n",
       "      <td>5186110</td>\n",
       "      <td>-2.343.609</td>\n",
       "      <td>-46.750.823</td>\n",
       "    </tr>\n",
       "    <tr>\n",
       "      <th>1390</th>\n",
       "      <td>Rua MONTE AZUL PAULISTA</td>\n",
       "      <td>VILA NOVA PARADA</td>\n",
       "      <td>JARAGUA</td>\n",
       "      <td>42.0</td>\n",
       "      <td>2883050</td>\n",
       "      <td>-2.343.984</td>\n",
       "      <td>-46.711.776</td>\n",
       "    </tr>\n",
       "    <tr>\n",
       "      <th>1395</th>\n",
       "      <td>Rua MONTE AZUL PAULISTA</td>\n",
       "      <td>VILA NOVA PARADA</td>\n",
       "      <td>JARAGUA</td>\n",
       "      <td>42.0</td>\n",
       "      <td>2883050</td>\n",
       "      <td>-2.344.018</td>\n",
       "      <td>-46.712.188</td>\n",
       "    </tr>\n",
       "    <tr>\n",
       "      <th>14690</th>\n",
       "      <td>Rua ILHA DA JUVENTUDE</td>\n",
       "      <td>VILA BRASILÃâNDIA</td>\n",
       "      <td>JARAGUA</td>\n",
       "      <td>42.0</td>\n",
       "      <td>2820000</td>\n",
       "      <td>-2.344.522</td>\n",
       "      <td>-46.708.955</td>\n",
       "    </tr>\n",
       "  </tbody>\n",
       "</table>\n",
       "</div>"
      ],
      "text/plain": [
       "                           endereco                bairro      distrito  \\\n",
       "991          Avenida PERI RONCHETTI           JARDIM PERI  CACHOEIRINHA   \n",
       "2004                     PEDRO VOSS           VILA CARRÃO        CARRAO   \n",
       "5564          Rua PRESIDENTE VARGAS        VILA CAIÃÅ¡BA         PERUS   \n",
       "8794      Rua TABULEIROS DE VALENCA          VILA INÃCIO         PERUS   \n",
       "8903                    Rua MOGEIRO            VILA PERUS         PERUS   \n",
       "11105       Rua TANAGRA VIOLÃÂCEA        JARDIM RODRIGO       JARAGUA   \n",
       "8656   Rua LÃÂBERO TEIXEIRA BRAGA           VILA AURORA       JARAGUA   \n",
       "1390        Rua MONTE AZUL PAULISTA      VILA NOVA PARADA       JARAGUA   \n",
       "1395        Rua MONTE AZUL PAULISTA      VILA NOVA PARADA       JARAGUA   \n",
       "14690         Rua ILHA DA JUVENTUDE  VILA BRASILÃâNDIA       JARAGUA   \n",
       "\n",
       "       coddist      cep    latitude    longitude  \n",
       "991       13.0  2633000     #CAMPO!  -46.648.435  \n",
       "2004      20.0  3437000  -140000000    -46531496  \n",
       "5564      61.0  5207000  -2.340.161  -46.748.203  \n",
       "8794      61.0  5206170  -2.340.424  -46.765.869  \n",
       "8903      61.0  5208230  -2.340.555  -46.759.129  \n",
       "11105     42.0  2990350  -2.342.889   -4.672.868  \n",
       "8656      42.0  5186110  -2.343.609  -46.750.823  \n",
       "1390      42.0  2883050  -2.343.984  -46.711.776  \n",
       "1395      42.0  2883050  -2.344.018  -46.712.188  \n",
       "14690     42.0  2820000  -2.344.522  -46.708.955  "
      ]
     },
     "execution_count": 38,
     "metadata": {},
     "output_type": "execute_result"
    }
   ],
   "source": [
    "aux.sort_values('latitude').head(10)"
   ]
  },
  {
   "cell_type": "code",
   "execution_count": 39,
   "metadata": {},
   "outputs": [
    {
     "name": "stdout",
     "output_type": "stream",
     "text": [
      "Erro na linha 991: Latitude: #CAMPO!, Longitude: -46.648.435\n",
      "Erro na linha 9868: Latitude: -23.562.178, Longitude: #CAMPO!\n",
      "                                endereco                               bairro  \\\n",
      "0                   RUA LUÍSA MARIA ROSA                          VILA SULINA   \n",
      "1       AVENIDA COMENDADOR JOSE DE MATOS                         VILA CLARICE   \n",
      "2       AVENIDA COMENDADOR JOSE DE MATOS                         VILA CLARICE   \n",
      "4       AVENIDA COMENDADOR JOSE DE MATOS                         VILA CLARICE   \n",
      "5       AVENIDA COMENDADOR JOSE DE MATOS                         VILA CLARICE   \n",
      "...                                  ...                                  ...   \n",
      "14825                    RUA MERIDIONAIS  JARDIM SANTA TEREZINHA (ZONA LESTE)   \n",
      "14826           RUA LIRA DOS VERDES ANOS                   JARDIM SÃO SAVÉRIO   \n",
      "14827             RUA DOUTOR MILTON PENA               PARQUE CRUZEIRO DO SUL   \n",
      "14828    RUA MAJOR JOSÉ MARIOTO FERREIRA                         PARAISÓPOLIS   \n",
      "14829  AVENIDA AGENOR COUTO DE MAGALHAES                        JARDIM REGINA   \n",
      "\n",
      "           distrito  coddist      cep     latitude    longitude  \n",
      "0        ANHANGUERA      3.0  5264050  -46785264.0  -23445107.0  \n",
      "1           JARAGUA     42.0  5177100 -467524770.0 -234648090.0  \n",
      "2           JARAGUA     42.0  5177100  -46752477.0  -23464809.0  \n",
      "4           JARAGUA     42.0  5177100 -234648090.0 -467524770.0  \n",
      "5           JARAGUA     42.0  5177100  -46752228.0  -23463830.0  \n",
      "...             ...      ...      ...          ...          ...  \n",
      "14825  CIDADE LIDER     24.0  3572120  -46500391.0  -23573253.0  \n",
      "14826        SACOMA     68.0  4194250  -46612952.0  -23652669.0  \n",
      "14827    VILA JACUI     87.0  8070360  -46457645.0  -23493737.0  \n",
      "14828  VILA ANDRADE     83.0  5662020  -46722841.0  -23613100.0  \n",
      "14829      PIRITUBA     63.0  5174000  -46741203.0  -23481267.0  \n",
      "\n",
      "[11729 rows x 7 columns]\n"
     ]
    }
   ],
   "source": [
    "aux['endereco'] = aux['endereco'].str.replace('Ã', 'Í').str.replace('ÃƒÂ', 'Í').str.replace('Ã', 'A').str.strip()\n",
    "aux['endereco'] = aux['endereco'].str.replace('Avenida', 'AVENIDA', case=False)\n",
    "aux['endereco'] = aux['endereco'].str.replace(r'\\s+', ' ', regex=True).str.strip()\n",
    "aux = corrigir_coordenadas(aux)\n",
    "df_limpo = aux.drop_duplicates(subset=['endereco', 'cep', 'latitude', 'longitude'], keep='first')\n",
    "\n",
    "print(df_limpo)"
   ]
  },
  {
   "cell_type": "code",
   "execution_count": 47,
   "metadata": {},
   "outputs": [],
   "source": [
    "df_limpo = df_limpo.drop_duplicates(subset='endereco')"
   ]
  },
  {
   "cell_type": "code",
   "execution_count": null,
   "metadata": {},
   "outputs": [],
   "source": [
    "df_limpo.drop_duplicates(subset='cep')"
   ]
  },
  {
   "cell_type": "markdown",
   "metadata": {},
   "source": [
    "# EDA and Processing estudantes"
   ]
  },
  {
   "cell_type": "code",
   "execution_count": 40,
   "metadata": {},
   "outputs": [
    {
     "name": "stdout",
     "output_type": "stream",
     "text": [
      "<class 'pandas.core.frame.DataFrame'>\n",
      "RangeIndex: 2982929 entries, 0 to 2982928\n",
      "Data columns (total 19 columns):\n",
      " #   Column     Dtype  \n",
      "---  ------     -----  \n",
      " 0   dre        object \n",
      " 1   codesc     int64  \n",
      " 2   tipoesc    object \n",
      " 3   nomesc     object \n",
      " 4   distrito   object \n",
      " 5   setor      int64  \n",
      " 6   ano        int64  \n",
      " 7   rede       object \n",
      " 8   modal      object \n",
      " 9   descserie  object \n",
      " 10  periodo    object \n",
      " 11  turno      int64  \n",
      " 12  descturno  object \n",
      " 13  sexo       object \n",
      " 14  idade      float64\n",
      " 15  nee        object \n",
      " 16  raca       object \n",
      " 17  qtde       int64  \n",
      " 18  database   object \n",
      "dtypes: float64(1), int64(5), object(13)\n",
      "memory usage: 432.4+ MB\n"
     ]
    }
   ],
   "source": [
    "df_estudantes.info()"
   ]
  },
  {
   "cell_type": "code",
   "execution_count": 41,
   "metadata": {},
   "outputs": [],
   "source": [
    "df_estudantes = df_estudantes.dropna(axis=0)"
   ]
  },
  {
   "cell_type": "code",
   "execution_count": 42,
   "metadata": {},
   "outputs": [
    {
     "data": {
      "text/plain": [
       "array(['EMEF', 'EMEI', 'CEU EMEF', 'CEU EMEI', 'CEMEI', 'CIEJA',\n",
       "       'CR.P.CONV', 'CEI INDIR', 'CEI DIRET', 'CEU CEI', 'MOVA',\n",
       "       'ESP CONV', 'CEU AT COM', 'CECI', 'EMEBS', 'CCI/CIPS', 'EMEFM',\n",
       "       'E TECNICA', 'CMCT', 'EMEF        ', 'EMEI        ',\n",
       "       'CEU EMEF    ', 'CEU EMEI    ', 'CEMEI       ', 'CIEJA       ',\n",
       "       'CR.P.CONV   ', 'CEI INDIR   ', 'CEI DIRET   ', 'CEU CEI     ',\n",
       "       'ESP CONV    ', 'CEU AT COMPL', 'MOVA        ', 'CECI        ',\n",
       "       'EMEBS       ', 'CCI/CIPS    ', 'EMEFM       ', 'CCA', 'CEU CEMEI',\n",
       "       'E T', 'E TEC'], dtype=object)"
      ]
     },
     "execution_count": 42,
     "metadata": {},
     "output_type": "execute_result"
    }
   ],
   "source": [
    "df_estudantes[\"tipoesc\"].unique()"
   ]
  },
  {
   "cell_type": "code",
   "execution_count": 43,
   "metadata": {},
   "outputs": [
    {
     "name": "stderr",
     "output_type": "stream",
     "text": [
      "C:\\Users\\davi_\\AppData\\Local\\Temp\\ipykernel_30852\\3200536890.py:1: SettingWithCopyWarning: \n",
      "A value is trying to be set on a copy of a slice from a DataFrame.\n",
      "Try using .loc[row_indexer,col_indexer] = value instead\n",
      "\n",
      "See the caveats in the documentation: https://pandas.pydata.org/pandas-docs/stable/user_guide/indexing.html#returning-a-view-versus-a-copy\n",
      "  df_estudantes[\"tipoesc\"] = df_estudantes[\"tipoesc\"].str.strip()\n"
     ]
    }
   ],
   "source": [
    "df_estudantes[\"tipoesc\"] = df_estudantes[\"tipoesc\"].str.strip()"
   ]
  },
  {
   "cell_type": "code",
   "execution_count": 44,
   "metadata": {},
   "outputs": [
    {
     "data": {
      "text/plain": [
       "array(['EMEF', 'EMEI', 'CEU EMEF', 'CEU EMEI', 'CEMEI', 'CIEJA',\n",
       "       'CR.P.CONV', 'CEI INDIR', 'CEI DIRET', 'CEU CEI', 'MOVA',\n",
       "       'ESP CONV', 'CEU AT COM', 'CECI', 'EMEBS', 'CCI/CIPS', 'EMEFM',\n",
       "       'E TECNICA', 'CMCT', 'CEU AT COMPL', 'CCA', 'CEU CEMEI', 'E T',\n",
       "       'E TEC'], dtype=object)"
      ]
     },
     "execution_count": 44,
     "metadata": {},
     "output_type": "execute_result"
    }
   ],
   "source": [
    "df_estudantes[\"tipoesc\"].unique()"
   ]
  },
  {
   "cell_type": "code",
   "execution_count": 45,
   "metadata": {},
   "outputs": [
    {
     "name": "stdout",
     "output_type": "stream",
     "text": [
      "(2586757, 19)\n"
     ]
    }
   ],
   "source": [
    "df_estudantes = df_estudantes.drop_duplicates()\n",
    "print(df_estudantes.shape)"
   ]
  },
  {
   "cell_type": "code",
   "execution_count": 46,
   "metadata": {},
   "outputs": [
    {
     "data": {
      "text/plain": [
       "array(['ATCOMP', 'BERCARIO', 'CELP', 'CONVEE', 'CRECHE', 'EDPROF',\n",
       "       'EDUCACAO INFANTIL', 'EJA', 'EJA CIEJA',\n",
       "       'EJA ESCOLAS EDUCACAO ESPECIAL', 'EJA ESCOLAS ENSINO FUNDAMENTAL',\n",
       "       'ENSINO FUNDAMENTAL 9 ANOS', 'ENSINO FUNDAMENTAL DE 9 ANOS',\n",
       "       'ENSINO MEDIO', 'ENSINO MEDIO NORMAL/MAGISTERIO', 'ESPEC',\n",
       "       'ESPEC ENS MEDIO', 'FUND', 'MEDIO', 'MOVA', 'OIE', 'OSL', 'PRE',\n",
       "       'PROJ', 'REC', 'SAAI', 'TECNICO MEDIO'], dtype=object)"
      ]
     },
     "execution_count": 46,
     "metadata": {},
     "output_type": "execute_result"
    }
   ],
   "source": [
    "np.sort(df_estudantes[\"modal\"].unique())"
   ]
  },
  {
   "cell_type": "code",
   "execution_count": 47,
   "metadata": {},
   "outputs": [
    {
     "data": {
      "text/html": [
       "<div>\n",
       "<style scoped>\n",
       "    .dataframe tbody tr th:only-of-type {\n",
       "        vertical-align: middle;\n",
       "    }\n",
       "\n",
       "    .dataframe tbody tr th {\n",
       "        vertical-align: top;\n",
       "    }\n",
       "\n",
       "    .dataframe thead th {\n",
       "        text-align: right;\n",
       "    }\n",
       "</style>\n",
       "<table border=\"1\" class=\"dataframe\">\n",
       "  <thead>\n",
       "    <tr style=\"text-align: right;\">\n",
       "      <th></th>\n",
       "      <th>dre</th>\n",
       "      <th>codesc</th>\n",
       "      <th>tipoesc</th>\n",
       "      <th>nomesc</th>\n",
       "      <th>distrito</th>\n",
       "      <th>setor</th>\n",
       "      <th>ano</th>\n",
       "      <th>rede</th>\n",
       "      <th>modal</th>\n",
       "      <th>descserie</th>\n",
       "      <th>periodo</th>\n",
       "      <th>turno</th>\n",
       "      <th>descturno</th>\n",
       "      <th>sexo</th>\n",
       "      <th>idade</th>\n",
       "      <th>nee</th>\n",
       "      <th>raca</th>\n",
       "      <th>qtde</th>\n",
       "      <th>database</th>\n",
       "    </tr>\n",
       "  </thead>\n",
       "  <tbody>\n",
       "    <tr>\n",
       "      <th>2772429</th>\n",
       "      <td>CL</td>\n",
       "      <td>700002</td>\n",
       "      <td>CEU AT COM</td>\n",
       "      <td>CASA BLANCA - SOLON BORGES DOS REIS, PROF.</td>\n",
       "      <td>JARDIM SAO LUIS</td>\n",
       "      <td>4601</td>\n",
       "      <td>2022</td>\n",
       "      <td>DIR</td>\n",
       "      <td>CELP</td>\n",
       "      <td>CELP ESPANHOL</td>\n",
       "      <td>DIURNO</td>\n",
       "      <td>1</td>\n",
       "      <td>Manhã</td>\n",
       "      <td>F</td>\n",
       "      <td>11.0</td>\n",
       "      <td>NAO POSSUI</td>\n",
       "      <td>PARDA</td>\n",
       "      <td>1</td>\n",
       "      <td>30/12/2022 00:00</td>\n",
       "    </tr>\n",
       "    <tr>\n",
       "      <th>2772430</th>\n",
       "      <td>CL</td>\n",
       "      <td>700002</td>\n",
       "      <td>CEU AT COM</td>\n",
       "      <td>CASA BLANCA - SOLON BORGES DOS REIS, PROF.</td>\n",
       "      <td>JARDIM SAO LUIS</td>\n",
       "      <td>4601</td>\n",
       "      <td>2022</td>\n",
       "      <td>DIR</td>\n",
       "      <td>CELP</td>\n",
       "      <td>CELP ESPANHOL</td>\n",
       "      <td>DIURNO</td>\n",
       "      <td>1</td>\n",
       "      <td>Manhã</td>\n",
       "      <td>M</td>\n",
       "      <td>10.0</td>\n",
       "      <td>NAO POSSUI</td>\n",
       "      <td>BRANCA</td>\n",
       "      <td>1</td>\n",
       "      <td>30/12/2022 00:00</td>\n",
       "    </tr>\n",
       "    <tr>\n",
       "      <th>2772431</th>\n",
       "      <td>CL</td>\n",
       "      <td>700002</td>\n",
       "      <td>CEU AT COM</td>\n",
       "      <td>CASA BLANCA - SOLON BORGES DOS REIS, PROF.</td>\n",
       "      <td>JARDIM SAO LUIS</td>\n",
       "      <td>4601</td>\n",
       "      <td>2022</td>\n",
       "      <td>DIR</td>\n",
       "      <td>CELP</td>\n",
       "      <td>CELP ESPANHOL</td>\n",
       "      <td>DIURNO</td>\n",
       "      <td>1</td>\n",
       "      <td>Manhã</td>\n",
       "      <td>M</td>\n",
       "      <td>12.0</td>\n",
       "      <td>NAO POSSUI</td>\n",
       "      <td>PARDA</td>\n",
       "      <td>1</td>\n",
       "      <td>30/12/2022 00:00</td>\n",
       "    </tr>\n",
       "    <tr>\n",
       "      <th>2772432</th>\n",
       "      <td>CL</td>\n",
       "      <td>700002</td>\n",
       "      <td>CEU AT COM</td>\n",
       "      <td>CASA BLANCA - SOLON BORGES DOS REIS, PROF.</td>\n",
       "      <td>JARDIM SAO LUIS</td>\n",
       "      <td>4601</td>\n",
       "      <td>2022</td>\n",
       "      <td>DIR</td>\n",
       "      <td>CELP</td>\n",
       "      <td>CELP ESPANHOL</td>\n",
       "      <td>DIURNO</td>\n",
       "      <td>1</td>\n",
       "      <td>Manhã</td>\n",
       "      <td>M</td>\n",
       "      <td>13.0</td>\n",
       "      <td>NAO POSSUI</td>\n",
       "      <td>BRANCA</td>\n",
       "      <td>1</td>\n",
       "      <td>30/12/2022 00:00</td>\n",
       "    </tr>\n",
       "    <tr>\n",
       "      <th>2772433</th>\n",
       "      <td>CL</td>\n",
       "      <td>700002</td>\n",
       "      <td>CEU AT COM</td>\n",
       "      <td>CASA BLANCA - SOLON BORGES DOS REIS, PROF.</td>\n",
       "      <td>JARDIM SAO LUIS</td>\n",
       "      <td>4601</td>\n",
       "      <td>2022</td>\n",
       "      <td>DIR</td>\n",
       "      <td>CELP</td>\n",
       "      <td>CELP ESPANHOL</td>\n",
       "      <td>DIURNO</td>\n",
       "      <td>1</td>\n",
       "      <td>Manhã</td>\n",
       "      <td>M</td>\n",
       "      <td>13.0</td>\n",
       "      <td>NAO POSSUI</td>\n",
       "      <td>PARDA</td>\n",
       "      <td>1</td>\n",
       "      <td>30/12/2022 00:00</td>\n",
       "    </tr>\n",
       "  </tbody>\n",
       "</table>\n",
       "</div>"
      ],
      "text/plain": [
       "        dre  codesc     tipoesc                                      nomesc  \\\n",
       "2772429  CL  700002  CEU AT COM  CASA BLANCA - SOLON BORGES DOS REIS, PROF.   \n",
       "2772430  CL  700002  CEU AT COM  CASA BLANCA - SOLON BORGES DOS REIS, PROF.   \n",
       "2772431  CL  700002  CEU AT COM  CASA BLANCA - SOLON BORGES DOS REIS, PROF.   \n",
       "2772432  CL  700002  CEU AT COM  CASA BLANCA - SOLON BORGES DOS REIS, PROF.   \n",
       "2772433  CL  700002  CEU AT COM  CASA BLANCA - SOLON BORGES DOS REIS, PROF.   \n",
       "\n",
       "                distrito  setor   ano rede modal      descserie periodo  \\\n",
       "2772429  JARDIM SAO LUIS   4601  2022  DIR  CELP  CELP ESPANHOL  DIURNO   \n",
       "2772430  JARDIM SAO LUIS   4601  2022  DIR  CELP  CELP ESPANHOL  DIURNO   \n",
       "2772431  JARDIM SAO LUIS   4601  2022  DIR  CELP  CELP ESPANHOL  DIURNO   \n",
       "2772432  JARDIM SAO LUIS   4601  2022  DIR  CELP  CELP ESPANHOL  DIURNO   \n",
       "2772433  JARDIM SAO LUIS   4601  2022  DIR  CELP  CELP ESPANHOL  DIURNO   \n",
       "\n",
       "         turno descturno sexo  idade         nee    raca  qtde  \\\n",
       "2772429      1     Manhã    F   11.0  NAO POSSUI   PARDA     1   \n",
       "2772430      1     Manhã    M   10.0  NAO POSSUI  BRANCA     1   \n",
       "2772431      1     Manhã    M   12.0  NAO POSSUI   PARDA     1   \n",
       "2772432      1     Manhã    M   13.0  NAO POSSUI  BRANCA     1   \n",
       "2772433      1     Manhã    M   13.0  NAO POSSUI   PARDA     1   \n",
       "\n",
       "                 database  \n",
       "2772429  30/12/2022 00:00  \n",
       "2772430  30/12/2022 00:00  \n",
       "2772431  30/12/2022 00:00  \n",
       "2772432  30/12/2022 00:00  \n",
       "2772433  30/12/2022 00:00  "
      ]
     },
     "execution_count": 47,
     "metadata": {},
     "output_type": "execute_result"
    }
   ],
   "source": [
    "mask = df_estudantes[\"modal\"] == \"CELP\"\n",
    "df_estudantes[mask].head()"
   ]
  },
  {
   "cell_type": "code",
   "execution_count": 48,
   "metadata": {},
   "outputs": [
    {
     "data": {
      "text/plain": [
       "descturno\n",
       "Tarde                      544301\n",
       "Manhã                      514659\n",
       "Integral                   505859\n",
       "Tarde                      247711\n",
       "Integral                   204153\n",
       "Noite                      178756\n",
       "ManhÃ£                     159481\n",
       "Noite                      100132\n",
       "ManhÃÂ£                    79961\n",
       "Intermediário               20248\n",
       "Vespertino                  15120\n",
       "IntermediÃ¡rio               8415\n",
       "Vespertino                   6515\n",
       "IntermediÃÂ¡rio             1446\n",
       "Name: count, dtype: int64"
      ]
     },
     "execution_count": 48,
     "metadata": {},
     "output_type": "execute_result"
    }
   ],
   "source": [
    "df_estudantes.value_counts('descturno')"
   ]
  },
  {
   "cell_type": "code",
   "execution_count": 49,
   "metadata": {},
   "outputs": [],
   "source": [
    "novos_modais = {\n",
    "  \"BERCARIO\": \"CRECHE\",\n",
    "  \"CELP\": \"ATCOMP\",\n",
    "  \"EDUCACAO INFANTIL\": \"PRE\",\n",
    "  \"EJA CIEJ\": \"EJA\",\n",
    "  \"EJA CIEJA\": \"EJA\",\n",
    "  \"EJA ESCOLAS EDUCACAO ESPECIAL\":\"EJA\",\n",
    "  \"EJA ESCOLAS ENSINO FUNDAMENTAL\":\"EJA\",\n",
    "  \"ENSINO FUNDAMENTAL 9 ANOS\": \"FUND\",\n",
    "  \"ENSINO FUNDAMENTAL DE 9 ANOS\": \"FUND\",\n",
    "  \"ENSINO MEDIO\": \"MEDIO\",\n",
    "  \"ENSINO MEDIO NORMAL/MAGISTERIO\": \"MEDIO\",\n",
    "  \"ESPEC ENS MEDIO\": \"MEDIO\",\n",
    "  \"TECNICO MEDIO\": \"MEDIO\"\n",
    "}"
   ]
  },
  {
   "cell_type": "code",
   "execution_count": 50,
   "metadata": {},
   "outputs": [],
   "source": [
    "df_estudantes[\"modal\"] = df_estudantes[\"modal\"].replace(novos_modais)"
   ]
  },
  {
   "cell_type": "code",
   "execution_count": 51,
   "metadata": {},
   "outputs": [
    {
     "data": {
      "text/plain": [
       "array(['ATCOMP', 'CONVEE', 'CRECHE', 'EDPROF', 'EJA', 'ESPEC', 'FUND',\n",
       "       'MEDIO', 'MOVA', 'OIE', 'OSL', 'PRE', 'PROJ', 'REC', 'SAAI'],\n",
       "      dtype=object)"
      ]
     },
     "execution_count": 51,
     "metadata": {},
     "output_type": "execute_result"
    }
   ],
   "source": [
    "np.sort(df_estudantes[\"modal\"].unique())"
   ]
  },
  {
   "cell_type": "code",
   "execution_count": 52,
   "metadata": {},
   "outputs": [
    {
     "data": {
      "text/plain": [
       "array(['Tarde', 'Manhã', 'Intermediário', 'Noite', 'Integral',\n",
       "       'Vespertino', 'Tarde               ', 'ManhÃ\\x83Â£               ',\n",
       "       'Noite               ', 'Integral            ',\n",
       "       'IntermediÃ\\x83Â¡rio       ', 'Vespertino          ',\n",
       "       'ManhÃ£               ', 'IntermediÃ¡rio       '], dtype=object)"
      ]
     },
     "execution_count": 52,
     "metadata": {},
     "output_type": "execute_result"
    }
   ],
   "source": [
    "df_estudantes[\"descturno\"].unique()"
   ]
  },
  {
   "cell_type": "code",
   "execution_count": null,
   "metadata": {},
   "outputs": [],
   "source": [
    "try:\n",
    "    unique_series = np.sort(df_estudantes['descserie'].str.encode('latin1').str.decode('utf-8').unique())\n",
    "except UnicodeDecodeError:\n",
    "    try:\n",
    "        unique_series = np.sort(df_estudantes['descserie'].str.encode('cp1252').str.decode('utf-8').unique())\n",
    "    except UnicodeDecodeError:\n",
    "        # Try other encodings here (e.g., iso-8859-1)\n",
    "        unique_series = np.sort(df_estudantes['descserie'].str.encode('iso-8859-1').str.decode('utf-8').unique())"
   ]
  },
  {
   "cell_type": "code",
   "execution_count": null,
   "metadata": {},
   "outputs": [],
   "source": []
  },
  {
   "cell_type": "code",
   "execution_count": null,
   "metadata": {},
   "outputs": [],
   "source": []
  },
  {
   "cell_type": "code",
   "execution_count": null,
   "metadata": {},
   "outputs": [],
   "source": []
  },
  {
   "cell_type": "code",
   "execution_count": 714,
   "metadata": {},
   "outputs": [],
   "source": [
    "conn.close()"
   ]
  },
  {
   "cell_type": "code",
   "execution_count": null,
   "metadata": {},
   "outputs": [],
   "source": []
  }
 ],
 "metadata": {
  "kernelspec": {
   "display_name": "base",
   "language": "python",
   "name": "python3"
  },
  "language_info": {
   "codemirror_mode": {
    "name": "ipython",
    "version": 3
   },
   "file_extension": ".py",
   "mimetype": "text/x-python",
   "name": "python",
   "nbconvert_exporter": "python",
   "pygments_lexer": "ipython3",
   "version": "3.12.4"
  }
 },
 "nbformat": 4,
 "nbformat_minor": 2
}
