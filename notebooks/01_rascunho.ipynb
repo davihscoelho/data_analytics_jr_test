{
 "cells": [
  {
   "cell_type": "code",
   "execution_count": 2,
   "metadata": {},
   "outputs": [],
   "source": [
    "import pandas as pd\n",
    "import zipfile\n",
    "import os"
   ]
  },
  {
   "cell_type": "code",
   "execution_count": 3,
   "metadata": {},
   "outputs": [],
   "source": [
    "file_path = \"../Data/Data/Escolas/dicionarioescolas.xlsx\""
   ]
  },
  {
   "cell_type": "code",
   "execution_count": 4,
   "metadata": {},
   "outputs": [],
   "source": [
    "file_path2 = \"../Data/Data/Escolas/escolas-dez-2010.csv\""
   ]
  },
  {
   "cell_type": "code",
   "execution_count": 5,
   "metadata": {},
   "outputs": [],
   "source": [
    "file_path3 = \"../Data/Data/Escolas/escolasr34.csv\""
   ]
  },
  {
   "cell_type": "code",
   "execution_count": 6,
   "metadata": {},
   "outputs": [],
   "source": [
    "folder_escolas  = \"../Data/Data/Escolas\"\n",
    "folder_estudantes = \"../Data/Data/Perfil dos educandos\"\n",
    "arquivos_escolas_csv = [arquivo for arquivo in os.listdir(folder_escolas) if arquivo.endswith('.csv')]\n",
    "arquivos_estudantes_csv = [arquivo for arquivo in os.listdir(folder_estudantes) if arquivo.endswith(\".csv\")]\n",
    "date_columns1 = ['dt_criacao', 'doc_criacao', 'dom_criacao', 'dt_ini_conv', 'dt_ini_func', 'dt_autoriza', 'dt_extintao', 'database']\n",
    "date_columns2 = ['database']"
   ]
  },
  {
   "cell_type": "code",
   "execution_count": 8,
   "metadata": {},
   "outputs": [],
   "source": [
    "df = pd.read_excel(file_path)"
   ]
  },
  {
   "cell_type": "code",
   "execution_count": 9,
   "metadata": {},
   "outputs": [],
   "source": [
    "padrao_cols = df[\"CAMPO\"].to_list()\n",
    "padrao_cols = [x.lower() for x in padrao_cols]\n",
    "set1 = set(padrao_cols)"
   ]
  },
  {
   "cell_type": "code",
   "execution_count": 12,
   "metadata": {},
   "outputs": [
    {
     "name": "stdout",
     "output_type": "stream",
     "text": [
      "Arquivo: escolas-dez-2010.csv\n",
      "Valores Padrão: {'codcie', 'nomesc', 'nomescof', 'dt_ini_func'}\n",
      "Valores ForaPadrao: {'cd_cie', 'nomes', 'nomescofi'}\n",
      "Arquivo: escolas-dez-2011.csv\n",
      "Valores Padrão: {'codcie', 'nomesc', 'nomescof', 'dt_ini_func'}\n",
      "Valores ForaPadrao: {'cd_cie', 'nomes', 'nomescofi'}\n",
      "Arquivo: escolas-dez-2012.csv\n",
      "Valores Padrão: {'codcie', 'nomesc', 'nomescof', 'dt_ini_func'}\n",
      "Valores ForaPadrao: {'cd_cie', 'nomes', 'nomescofi'}\n",
      "Arquivo: escolas-dez-2013.csv\n",
      "Valores Padrão: {'codcie', 'nomesc', 'nomescof', 'dt_ini_func'}\n",
      "Valores ForaPadrao: {'cd_cie', 'nomes', 'nomescofi'}\n",
      "Arquivo: escolas-dez-2014.csv\n",
      "Valores Padrão: {'codcie', 'nomesc', 'nomescof', 'dt_ini_func'}\n",
      "Valores ForaPadrao: {'cd_cie', 'nomes', 'nomescofi'}\n",
      "Arquivo: escolas-dez-2015.csv\n",
      "Valores Padrão: {'codcie', 'nomesc', 'nomescof', 'dt_ini_func'}\n",
      "Valores ForaPadrao: {'cd_cie', 'nomes', 'nomescofi'}\n",
      "Arquivo: escolas122018.csv\n",
      "Valores Padrão: {'dom_criacao', 'dt_extincao', 'nomescof', 'dre', 'codcie'}\n",
      "Valores ForaPadrao: {'cd_cie', 'dt_extintao', 'doc_criacao', 'ï»¿dre'}\n",
      "Arquivo: escolas122019.csv\n",
      "Valores Padrão: {'codcie', 'dt_extincao', 'nomescof', 'dre'}\n",
      "Valores ForaPadrao: {'cd_cie', 'dt_extintao', 'ï»¿dre'}\n",
      "Arquivo: escolas122020.csv\n",
      "Valores Padrão: {'codcie', 'nomescof', 'dt_ini_func'}\n",
      "Valores ForaPadrao: {'cd_cie', 'nomescofi'}\n",
      "Arquivo: escolas122021.csv\n",
      "Valores Padrão: {'codcie', 'nomesc', 'nomescof', 'dt_ini_func'}\n",
      "Valores ForaPadrao: {'cd_cie', 'nomes', 'nomescofi'}\n",
      "Arquivo: escolas122022.csv\n",
      "Valores Padrão: {'codcie', 'nomesc', 'nomescof', 'dt_ini_func'}\n",
      "Valores ForaPadrao: {'cd_cie', 'nomes', 'nomescofi'}\n",
      "Arquivo: escolas122023.csv\n",
      "Valores Padrão: {'coddist', 'nomesc', 'nomescof', 'dt_ini_func', 'codcie', 'rede'}\n",
      "Valores ForaPadrao: {'cd_cie', 'desloc', 'nomes', 'cdist', 'fx_etaria.1'}\n",
      "Arquivo: escolasr34.csv\n",
      "Valores Padrão: {'fx_etaria', 'dt_ini_conv', 'dt_extincao', 'nomescof', 'dre'}\n",
      "Valores ForaPadrao: {'dturnos14', 'dturnos13', 't2d3d13', 'dturnos08', 't2d3d11', 't2d3d12', 't2d3d15', 't2d3d07', 't2d3d10', 'dturnos07', 'dturnos12', 't2d3d', 'dturnos11', 'dturnos15', 'dturnos10', 'dturnos09', 'ï»¿dre', 't2d3d09', 't2d3d08', 't2d3d14', 'dturnos'}\n",
      "Arquivo: escolasr34dez2017.csv\n",
      "Valores Padrão: {'fx_etaria', 'dt_extincao', 'nomescof', 'dt_ini_conv'}\n",
      "Valores ForaPadrao: {'dturnos14', 'dturnos13', 't2d3d13', 'dturnos08', 't2d3d11', 't2d3d12', 't2d3d15', 't2d3d07', 't2d3d10', 'dturnos07', 'dturnos12', 't2d3d', 'dturnos11', 'dturnos15', 'dturnos10', 'dturnos09', 't2d3d09', 't2d3d08', 't2d3d14', 't2d3d16', 'dturnos16', 'dturnos'}\n"
     ]
    }
   ],
   "source": [
    "for arquivo in arquivos_escolas_csv:\n",
    "  #pd.read_csv(os.path.join(folder_path, arquivo), encoding='latin1', sep=';')\n",
    "  df = pd.read_csv(os.path.join(folder_escolas, arquivo), encoding='latin1', sep=';')\n",
    "  print(f\"Arquivo: {arquivo}\")\n",
    "  cols_df = df.columns\n",
    "  cols_df = [x.lower() for x in cols_df]\n",
    "  set2 = set(cols_df)\n",
    "  common_elements = set1.intersection(set2)\n",
    "  \n",
    "  unique_values_1 = set1.difference(set2)\n",
    "  unique_values_2 = set2.difference(set1)\n",
    "  print(f\"Valores Padrão: {unique_values_1}\")\n",
    "  print(f\"Valores ForaPadrao: {unique_values_2}\")"
   ]
  },
  {
   "cell_type": "code",
   "execution_count": 13,
   "metadata": {},
   "outputs": [
    {
     "ename": "NameError",
     "evalue": "name 'cols' is not defined",
     "output_type": "error",
     "traceback": [
      "\u001b[1;31m---------------------------------------------------------------------------\u001b[0m",
      "\u001b[1;31mNameError\u001b[0m                                 Traceback (most recent call last)",
      "Cell \u001b[1;32mIn[13], line 1\u001b[0m\n\u001b[1;32m----> 1\u001b[0m cols\n",
      "\u001b[1;31mNameError\u001b[0m: name 'cols' is not defined"
     ]
    }
   ],
   "source": []
  },
  {
   "cell_type": "code",
   "execution_count": null,
   "metadata": {},
   "outputs": [],
   "source": [
    "df = pd.read_excel(file_path)"
   ]
  },
  {
   "cell_type": "code",
   "execution_count": null,
   "metadata": {},
   "outputs": [],
   "source": [
    "df2 = pd.read_csv(file_path2, encoding = 'iso-8859-1', sep=\";\")"
   ]
  },
  {
   "cell_type": "code",
   "execution_count": 49,
   "metadata": {},
   "outputs": [],
   "source": [
    "df3 = pd.read_csv(file_path3, encoding=\"utf-8\", sep=\";\")"
   ]
  },
  {
   "cell_type": "code",
   "execution_count": 37,
   "metadata": {},
   "outputs": [],
   "source": []
  },
  {
   "cell_type": "code",
   "execution_count": null,
   "metadata": {},
   "outputs": [],
   "source": [
    "df2.head()"
   ]
  },
  {
   "cell_type": "code",
   "execution_count": null,
   "metadata": {},
   "outputs": [],
   "source": [
    "df3.head()"
   ]
  },
  {
   "cell_type": "code",
   "execution_count": null,
   "metadata": {},
   "outputs": [],
   "source": [
    "df2.loc[:,cols_names]"
   ]
  },
  {
   "cell_type": "code",
   "execution_count": null,
   "metadata": {},
   "outputs": [],
   "source": [
    "df2.head()"
   ]
  },
  {
   "cell_type": "code",
   "execution_count": null,
   "metadata": {},
   "outputs": [],
   "source": []
  },
  {
   "cell_type": "code",
   "execution_count": 4,
   "metadata": {},
   "outputs": [],
   "source": []
  },
  {
   "cell_type": "code",
   "execution_count": 9,
   "metadata": {},
   "outputs": [],
   "source": [
    "cols = ['DT_CRIACAO', 'DOM_CRIACAO', 'DT_INI_CONV','DT_AUTORIZA', 'DT_EXTINCAO']"
   ]
  },
  {
   "cell_type": "code",
   "execution_count": null,
   "metadata": {},
   "outputs": [],
   "source": [
    "new_cols = []\n",
    "for col in cols:\n",
    "  new_cols.append(col.lower())\n",
    "  print(col.lower())"
   ]
  },
  {
   "cell_type": "code",
   "execution_count": null,
   "metadata": {},
   "outputs": [],
   "source": []
  }
 ],
 "metadata": {
  "kernelspec": {
   "display_name": "base",
   "language": "python",
   "name": "python3"
  },
  "language_info": {
   "codemirror_mode": {
    "name": "ipython",
    "version": 3
   },
   "file_extension": ".py",
   "mimetype": "text/x-python",
   "name": "python",
   "nbconvert_exporter": "python",
   "pygments_lexer": "ipython3",
   "version": "3.12.4"
  }
 },
 "nbformat": 4,
 "nbformat_minor": 2
}
