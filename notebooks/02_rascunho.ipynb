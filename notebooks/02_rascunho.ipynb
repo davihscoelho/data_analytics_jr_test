{
 "cells": [
  {
   "cell_type": "code",
   "execution_count": 36,
   "metadata": {},
   "outputs": [],
   "source": [
    "import pandas as pd\n",
    "import zipfile\n",
    "import os\n",
    "import re\n",
    "from sqlalchemy import create_engine\n",
    "from sqlalchemy.orm import sessionmaker\n",
    "from sqlalchemy.ext.declarative import declarative_base\n",
    "from sqlalchemy import Table,Column,Integer,String\n",
    "from sqlalchemy import MetaData\n",
    "from sqlalchemy.orm import mapper"
   ]
  },
  {
   "cell_type": "code",
   "execution_count": 37,
   "metadata": {},
   "outputs": [],
   "source": [
    "engine = create_engine(\"sqlite:///test_analytics.db\", echo=True)"
   ]
  },
  {
   "cell_type": "code",
   "execution_count": 38,
   "metadata": {},
   "outputs": [
    {
     "name": "stdout",
     "output_type": "stream",
     "text": [
      "2024-12-16 07:22:38,053 INFO sqlalchemy.engine.Engine BEGIN (implicit)\n",
      "2024-12-16 07:22:38,054 INFO sqlalchemy.engine.Engine SELECT name FROM sqlite_master WHERE type='table' AND name NOT LIKE 'sqlite~_%' ESCAPE '~' ORDER BY name\n",
      "2024-12-16 07:22:38,054 INFO sqlalchemy.engine.Engine [raw sql] ()\n",
      "2024-12-16 07:22:38,055 INFO sqlalchemy.engine.Engine SELECT name FROM sqlite_temp_master WHERE type='table' AND name NOT LIKE 'sqlite~_%' ESCAPE '~' ORDER BY name\n",
      "2024-12-16 07:22:38,056 INFO sqlalchemy.engine.Engine [raw sql] ()\n",
      "2024-12-16 07:22:38,057 INFO sqlalchemy.engine.Engine ROLLBACK\n"
     ]
    },
    {
     "name": "stderr",
     "output_type": "stream",
     "text": [
      "C:\\Users\\davi_\\AppData\\Local\\Temp\\ipykernel_1652\\933219014.py:6: MovedIn20Warning: The ``declarative_base()`` function is now available as sqlalchemy.orm.declarative_base(). (deprecated since: 2.0) (Background on SQLAlchemy 2.0 at: https://sqlalche.me/e/b8d9)\n",
      "  Base=declarative_base()\n"
     ]
    }
   ],
   "source": [
    "#Creating session which is the middle ground to talk to our engine\n",
    "Session=sessionmaker(bind=engine)\n",
    "session=Session()\n",
    "\n",
    "#Map which table in database will be related to each class\n",
    "Base=declarative_base()\n",
    "\n",
    "metadata = MetaData()\n",
    "metadata.reflect(bind=engine)"
   ]
  },
  {
   "cell_type": "code",
   "execution_count": null,
   "metadata": {},
   "outputs": [],
   "source": [
    "class escolas_table(object):\n",
    "  def __init__(self):\n",
    "    self."
   ]
  },
  {
   "cell_type": "code",
   "execution_count": 35,
   "metadata": {},
   "outputs": [],
   "source": [
    "def table_definition(table_name):\n",
    "\n",
    "  table_definition.table_define = Table(table_name,metadata,\n",
    "    Column('dre', String),\n",
    "    Column('codesc',String),\n",
    "    Column('tipoesc', String),\n",
    "    Column('nomesc', String),\n",
    "    Column('nomescof', String),\n",
    "    Column('ceu',String),\n",
    "    Column('diretoria', String),\n",
    "    Column('subpref', String),\n",
    "    Column('endereco', String),\n",
    "    Column('numero', String),\n",
    "    Column('bairro', String),\n",
    "    Column('cep', Integer),\n",
    "    Column('tel1', String),\n",
    "    Column('tel2', String),\n",
    "    Column('fax', String),\n",
    "    Column('situacao', String),\n",
    "    Column('coddist', float),\n",
    "    Column('distrito', String),\n",
    "    Column('setor', float),\n",
    "    Column('codinep', float),\n",
    "    Column('codcie', float),\n",
    "    Column('eh', float),\n",
    "    Column('fx_etaria',String),\n",
    "    Column('dt_criacao', Date),\n",
    "    Column('ato_criacao', Date),\n",
    "    Column('dom_criacao', Date),\n",
    "    Column('dt_ini_func', Date),\n",
    "    Column('dt_ini_conv', Date),\n",
    "    Column('dt_autoriza', Date),\n",
    "    Column('dt_extincao', Date),\n",
    "    Column('nome_ant', String),\n",
    "    Column('rede', String),\n",
    "    Column('latitude', Integer),\n",
    "    Column('longitude', Integer),\n",
    "    Column('database', String),\n",
    "    )\n",
    "  metadata.create_all(engine)\n",
    "  mapper(product_table)"
   ]
  },
  {
   "cell_type": "code",
   "execution_count": null,
   "metadata": {},
   "outputs": [],
   "source": [
    "folder_escolas  = \"../Data/Data/Escolas\"\n",
    "folder_estudantes = \"../Data/Data/Perfil dos educandos\"\n",
    "arquivos_escolas_csv = [arquivo for arquivo in os.listdir(folder_escolas) if arquivo.endswith('.csv')]\n",
    "arquivos_estudantes_csv = [arquivo for arquivo in os.listdir(folder_estudantes) if arquivo.endswith(\".csv\")]\n",
    "date_columns1 = ['dt_criacao', 'doc_criacao', 'dom_criacao', 'dt_ini_conv', 'dt_ini_func', 'dt_autoriza', 'dt_extintao', 'database']\n",
    "date_columns2 = ['database']\n",
    "file_path = \"../Data/Data/Escolas/dicionarioescolas.xlsx\"\n",
    "\n",
    "df = pd.read_excel(file_path)\n",
    "padrao_cols = df[\"CAMPO\"].to_list()\n",
    "padrao_cols = [x.lower() for x in padrao_cols]\n",
    "set1 = set(padrao_cols)\n",
    "\n",
    "for arquivo in arquivos_escolas_csv[:1]:\n",
    "  #pd.read_csv(os.path.join(folder_path, arquivo), encoding='latin1', sep=';')\n",
    "  df = pd.read_csv(os.path.join(folder_escolas, arquivo), encoding='latin1', sep=';')"
   ]
  },
  {
   "cell_type": "code",
   "execution_count": 17,
   "metadata": {},
   "outputs": [],
   "source": [
    "csv_data = df.values.tolist()"
   ]
  },
  {
   "cell_type": "code",
   "execution_count": null,
   "metadata": {},
   "outputs": [],
   "source": [
    "for row in csv_data:\n",
    "  print(row[0])"
   ]
  },
  {
   "cell_type": "code",
   "execution_count": null,
   "metadata": {},
   "outputs": [],
   "source": [
    "csv_data"
   ]
  },
  {
   "cell_type": "code",
   "execution_count": null,
   "metadata": {},
   "outputs": [],
   "source": [
    "for row in df:\n",
    "  print(row)"
   ]
  },
  {
   "cell_type": "code",
   "execution_count": 41,
   "metadata": {},
   "outputs": [
    {
     "ename": "AttributeError",
     "evalue": "'Engine' object has no attribute 'connection'",
     "output_type": "error",
     "traceback": [
      "\u001b[1;31m---------------------------------------------------------------------------\u001b[0m",
      "\u001b[1;31mAttributeError\u001b[0m                            Traceback (most recent call last)",
      "Cell \u001b[1;32mIn[41], line 1\u001b[0m\n\u001b[1;32m----> 1\u001b[0m engine\u001b[38;5;241m.\u001b[39mconnection\u001b[38;5;241m.\u001b[39mclose()\n",
      "\u001b[1;31mAttributeError\u001b[0m: 'Engine' object has no attribute 'connection'"
     ]
    }
   ],
   "source": [
    "engine.connection.close()"
   ]
  },
  {
   "cell_type": "code",
   "execution_count": 42,
   "metadata": {},
   "outputs": [],
   "source": [
    "conn = engine.connect()"
   ]
  },
  {
   "cell_type": "code",
   "execution_count": 43,
   "metadata": {},
   "outputs": [
    {
     "ename": "",
     "evalue": "",
     "output_type": "error",
     "traceback": [
      "\u001b[1;31mThe Kernel crashed while executing code in the current cell or a previous cell. \n",
      "\u001b[1;31mPlease review the code in the cell(s) to identify a possible cause of the failure. \n",
      "\u001b[1;31mClick <a href='https://aka.ms/vscodeJupyterKernelCrash'>here</a> for more info. \n",
      "\u001b[1;31mView Jupyter <a href='command:jupyter.viewOutput'>log</a> for further details."
     ]
    }
   ],
   "source": [
    "conn.close()"
   ]
  },
  {
   "cell_type": "code",
   "execution_count": null,
   "metadata": {},
   "outputs": [],
   "source": []
  }
 ],
 "metadata": {
  "kernelspec": {
   "display_name": "base",
   "language": "python",
   "name": "python3"
  },
  "language_info": {
   "codemirror_mode": {
    "name": "ipython",
    "version": 3
   },
   "file_extension": ".py",
   "mimetype": "text/x-python",
   "name": "python",
   "nbconvert_exporter": "python",
   "pygments_lexer": "ipython3",
   "version": "3.12.4"
  }
 },
 "nbformat": 4,
 "nbformat_minor": 2
}
