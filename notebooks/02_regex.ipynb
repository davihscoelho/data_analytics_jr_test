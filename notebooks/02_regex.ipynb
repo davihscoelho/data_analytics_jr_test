{
 "cells": [
  {
   "cell_type": "code",
   "execution_count": 1,
   "metadata": {},
   "outputs": [],
   "source": [
    "import re"
   ]
  },
  {
   "cell_type": "code",
   "execution_count": 2,
   "metadata": {},
   "outputs": [],
   "source": [
    "texto = 'arara1992'\n",
    "p1 = re.compile(r'\\d')\n",
    "check1 = p1.findall(texto)"
   ]
  },
  {
   "cell_type": "code",
   "execution_count": 3,
   "metadata": {},
   "outputs": [
    {
     "name": "stdout",
     "output_type": "stream",
     "text": [
      "['1', '9', '9', '2']\n"
     ]
    }
   ],
   "source": [
    "print(check1)"
   ]
  },
  {
   "cell_type": "code",
   "execution_count": 6,
   "metadata": {},
   "outputs": [],
   "source": [
    "texto = '07/03/2020 00:00'\n",
    "p1 = re.compile(r'\\D')\n",
    "check2 = p1.findall(texto)"
   ]
  },
  {
   "cell_type": "code",
   "execution_count": 18,
   "metadata": {},
   "outputs": [],
   "source": [
    "texto = '07/03/2020 00:00'\n",
    "p = re.compile(r'[a-zA-Z0-9]+')\n",
    "correspondencias = p.finditer(texto)"
   ]
  },
  {
   "cell_type": "code",
   "execution_count": 19,
   "metadata": {},
   "outputs": [
    {
     "name": "stdout",
     "output_type": "stream",
     "text": [
      "<re.Match object; span=(0, 2), match='07'>\n",
      "<re.Match object; span=(3, 5), match='03'>\n",
      "<re.Match object; span=(6, 10), match='2020'>\n",
      "<re.Match object; span=(11, 13), match='00'>\n",
      "<re.Match object; span=(14, 16), match='00'>\n"
     ]
    }
   ],
   "source": [
    "for correspondencia in correspondencias:\n",
    "  print(correspondencia)"
   ]
  },
  {
   "cell_type": "code",
   "execution_count": null,
   "metadata": {},
   "outputs": [],
   "source": []
  }
 ],
 "metadata": {
  "kernelspec": {
   "display_name": "base",
   "language": "python",
   "name": "python3"
  },
  "language_info": {
   "codemirror_mode": {
    "name": "ipython",
    "version": 3
   },
   "file_extension": ".py",
   "mimetype": "text/x-python",
   "name": "python",
   "nbconvert_exporter": "python",
   "pygments_lexer": "ipython3",
   "version": "3.12.4"
  }
 },
 "nbformat": 4,
 "nbformat_minor": 2
}
